{
  "nbformat": 4,
  "nbformat_minor": 0,
  "metadata": {
    "colab": {
      "name": "Attention.ipynb",
      "provenance": [],
      "authorship_tag": "ABX9TyNSysNHnJc5eM/cgZYl7XDQ",
      "include_colab_link": true
    },
    "kernelspec": {
      "name": "python3",
      "display_name": "Python 3"
    },
    "accelerator": "GPU"
  },
  "cells": [
    {
      "cell_type": "markdown",
      "metadata": {
        "id": "view-in-github",
        "colab_type": "text"
      },
      "source": [
        "<a href=\"https://colab.research.google.com/github/banjodayo39/deep_learning_project/blob/master/Attention.ipynb\" target=\"_parent\"><img src=\"https://colab.research.google.com/assets/colab-badge.svg\" alt=\"Open In Colab\"/></a>"
      ]
    },
    {
      "cell_type": "code",
      "metadata": {
        "id": "rwE5h0S8Xwdv",
        "colab_type": "code",
        "colab": {}
      },
      "source": [
        "import os, sys\n",
        "\n",
        "from keras.models import Model\n",
        "from keras.layers import Input, LSTM, GRU, Dense, Embedding, \\\n",
        "  Bidirectional, RepeatVector, Concatenate, Activation, Dot, Lambda\n",
        "from keras.preprocessing.text import Tokenizer\n",
        "from keras.preprocessing.sequence import pad_sequences\n",
        "import keras.backend as K\n",
        "\n",
        "import numpy as np\n",
        "import matplotlib.pyplot as plt"
      ],
      "execution_count": 0,
      "outputs": []
    },
    {
      "cell_type": "code",
      "metadata": {
        "id": "rxmfGvRmYVUK",
        "colab_type": "code",
        "colab": {
          "base_uri": "https://localhost:8080/",
          "height": 34
        },
        "outputId": "58323de1-e720-4956-8f22-502e46c6f623"
      },
      "source": [
        "\n",
        "if len(K.tensorflow_backend._get_available_gpus()) > 0:\n",
        "  from keras.layers import CuDNNLSTM as LSTM\n",
        "  from keras.layers import CuDNNGRU as GRU\n",
        "  print(\"Yes\")"
      ],
      "execution_count": 11,
      "outputs": [
        {
          "output_type": "stream",
          "text": [
            "Yes\n"
          ],
          "name": "stdout"
        }
      ]
    },
    {
      "cell_type": "code",
      "metadata": {
        "id": "jvjLIEwBX3_j",
        "colab_type": "code",
        "colab": {}
      },
      "source": [
        "# make sure we do softmax over the time axis\n",
        "# expected shape is N x T x D\n",
        "# note: the latest version of Keras allows you to pass in axis arg\n",
        "def softmax_over_time(x):\n",
        "  assert(K.ndim(x) > 2)\n",
        "  e = K.exp(x - K.max(x, axis=1, keepdims=True))\n",
        "  s = K.sum(e, axis=1, keepdims=True)\n",
        "  return e / s\n"
      ],
      "execution_count": 0,
      "outputs": []
    },
    {
      "cell_type": "code",
      "metadata": {
        "id": "ktGs0RNPYFY0",
        "colab_type": "code",
        "colab": {}
      },
      "source": [
        "# config\n",
        "BATCH_SIZE = 64\n",
        "EPOCHS = 100\n",
        "LATENT_DIM = 256\n",
        "LATENT_DIM_DECODER = 256 # idea: make it different to ensure things all fit together properly!\n",
        "NUM_SAMPLES = 10000\n",
        "MAX_SEQUENCE_LENGTH = 100\n",
        "MAX_NUM_WORDS = 20000\n",
        "EMBEDDING_DIM = 100"
      ],
      "execution_count": 0,
      "outputs": []
    },
    {
      "cell_type": "code",
      "metadata": {
        "id": "x6g_sLdPYJ9K",
        "colab_type": "code",
        "colab": {}
      },
      "source": [
        "# Where we will store the data\n",
        "input_texts = [] # sentence in original language\n",
        "target_texts = [] # sentence in target language\n",
        "target_texts_inputs = [] # sentence in target language offset by 1"
      ],
      "execution_count": 0,
      "outputs": []
    },
    {
      "cell_type": "code",
      "metadata": {
        "id": "NfBBjDKpYMw5",
        "colab_type": "code",
        "colab": {
          "base_uri": "https://localhost:8080/",
          "height": 187
        },
        "outputId": "8813e2d7-565a-47c8-b6dc-0644a2ce09c3"
      },
      "source": [
        "# load in the data\n",
        "# download the data at: http://www.manythings.org/anki/\n",
        "t = 0\n",
        "for line in open('sample_data/fra.txt'):\n",
        "  # only keep a limited number of samples\n",
        "  t += 1\n",
        "  if t > NUM_SAMPLES:\n",
        "    break\n",
        "\n",
        "  # input and target are separated by tab\n",
        "  if '\\t' not in line:\n",
        "    continue\n",
        "\n",
        "  # split up the input and translation\n",
        "  line = line.rstrip().split('\\t')\n",
        "  input_text, translation = line[0], line[1]\n",
        "\n",
        "  if t < 10:\n",
        "    print(input_text, translation)\n",
        "\n",
        "  # make the target input and output\n",
        "  # recall we'll be using teacher forcing\n",
        "  target_text = translation + ' <eos>'\n",
        "  target_text_input = '<sos> ' + translation\n",
        "\n",
        "  input_texts.append(input_text)\n",
        "  target_texts.append(target_text)\n",
        "  target_texts_inputs.append(target_text_input)\n",
        "print(\"num samples:\", len(input_texts))"
      ],
      "execution_count": 15,
      "outputs": [
        {
          "output_type": "stream",
          "text": [
            "Go. Va !\n",
            "Hi. Salut !\n",
            "Hi. Salut.\n",
            "Run! Cours !\n",
            "Run! Courez !\n",
            "Who? Qui ?\n",
            "Wow! Ça alors !\n",
            "Fire! Au feu !\n",
            "Help! À l'aide !\n",
            "num samples: 10000\n"
          ],
          "name": "stdout"
        }
      ]
    },
    {
      "cell_type": "code",
      "metadata": {
        "id": "qiFuWeHWZBok",
        "colab_type": "code",
        "colab": {
          "base_uri": "https://localhost:8080/",
          "height": 51
        },
        "outputId": "efd7ab88-d96d-48a6-c41e-974037d8123d"
      },
      "source": [
        "# tokenize the inputs\n",
        "tokenizer_inputs = Tokenizer(num_words=MAX_NUM_WORDS)\n",
        "tokenizer_inputs.fit_on_texts(input_texts)\n",
        "input_sequences = tokenizer_inputs.texts_to_sequences(input_texts)\n",
        "\n",
        "# get the word to index mapping for input language\n",
        "word2idx_inputs = tokenizer_inputs.word_index\n",
        "print('Found %s unique input tokens.' % len(word2idx_inputs))\n",
        "\n",
        "# determine maximum length input sequence\n",
        "max_len_input = max(len(s) for s in input_sequences)\n",
        "\n",
        "# tokenize the outputs\n",
        "# don't filter out special characters\n",
        "# otherwise <sos> and <eos> won't appear\n",
        "tokenizer_outputs = Tokenizer(num_words=MAX_NUM_WORDS, filters='')\n",
        "tokenizer_outputs.fit_on_texts(target_texts + target_texts_inputs) # inefficient, oh well\n",
        "target_sequences = tokenizer_outputs.texts_to_sequences(target_texts)\n",
        "target_sequences_inputs = tokenizer_outputs.texts_to_sequences(target_texts_inputs)\n",
        "\n",
        "# get the word to index mapping for output language\n",
        "word2idx_outputs = tokenizer_outputs.word_index\n",
        "print('Found %s unique output tokens.' % len(word2idx_outputs))\n",
        "\n",
        "# store number of output words for later\n",
        "# remember to add 1 since indexing starts at 1\n",
        "num_words_output = len(word2idx_outputs) + 1\n",
        "\n",
        "# determine maximum length output sequence\n",
        "max_len_target = max(len(s) for s in target_sequences)"
      ],
      "execution_count": 16,
      "outputs": [
        {
          "output_type": "stream",
          "text": [
            "Found 2146 unique input tokens.\n",
            "Found 5754 unique output tokens.\n"
          ],
          "name": "stdout"
        }
      ]
    },
    {
      "cell_type": "code",
      "metadata": {
        "id": "Gg4XJVAOZEfS",
        "colab_type": "code",
        "colab": {
          "base_uri": "https://localhost:8080/",
          "height": 85
        },
        "outputId": "dffd2682-d829-400c-f589-fc9d279667b3"
      },
      "source": [
        "# pad the sequences\n",
        "encoder_inputs = pad_sequences(input_sequences, maxlen=max_len_input)\n",
        "print(\"encoder_data.shape:\", encoder_inputs.shape)\n",
        "print(\"encoder_data[0]:\", encoder_inputs[0])\n",
        "\n",
        "decoder_inputs = pad_sequences(target_sequences_inputs, maxlen=max_len_target, padding='post')\n",
        "print(\"decoder_data[0]:\", decoder_inputs[0])\n",
        "print(\"decoder_data.shape:\", decoder_inputs.shape)\n",
        "\n",
        "decoder_targets = pad_sequences(target_sequences, maxlen=max_len_target, padding='post')"
      ],
      "execution_count": 17,
      "outputs": [
        {
          "output_type": "stream",
          "text": [
            "encoder_data.shape: (10000, 5)\n",
            "encoder_data[0]: [ 0  0  0  0 15]\n",
            "decoder_data[0]: [ 2 57  4  0  0  0  0  0  0  0  0]\n",
            "decoder_data.shape: (10000, 11)\n"
          ],
          "name": "stdout"
        }
      ]
    },
    {
      "cell_type": "code",
      "metadata": {
        "id": "XeSC0cMjZMUa",
        "colab_type": "code",
        "colab": {
          "base_uri": "https://localhost:8080/",
          "height": 51
        },
        "outputId": "411e852e-62fd-414b-9f2a-029c524cd709"
      },
      "source": [
        "# store all the pre-trained word vectors\n",
        "print('Loading word vectors...')\n",
        "word2vec = {}\n",
        "with open(os.path.join('sample_data/glove.6B.%sd.txt' % EMBEDDING_DIM)) as f:\n",
        "  # is just a space-separated text file in the format:\n",
        "  # word vec[0] vec[1] vec[2] ...\n",
        "  for line in f:\n",
        "    values = line.split()\n",
        "    word = values[0]\n",
        "    vec = np.asarray(values[1:], dtype='float32')\n",
        "    word2vec[word] = vec\n",
        "print('Found %s word vectors.' % len(word2vec))"
      ],
      "execution_count": 18,
      "outputs": [
        {
          "output_type": "stream",
          "text": [
            "Loading word vectors...\n",
            "Found 22005 word vectors.\n"
          ],
          "name": "stdout"
        }
      ]
    },
    {
      "cell_type": "code",
      "metadata": {
        "id": "youltgQTZRFe",
        "colab_type": "code",
        "colab": {
          "base_uri": "https://localhost:8080/",
          "height": 34
        },
        "outputId": "21676a8e-a0a3-433e-ede2-8d7a0f26df77"
      },
      "source": [
        "# prepare embedding matrix\n",
        "print('Filling pre-trained embeddings...')\n",
        "num_words = min(MAX_NUM_WORDS, len(word2idx_inputs) + 1)\n",
        "embedding_matrix = np.zeros((num_words, EMBEDDING_DIM))\n",
        "for word, i in word2idx_inputs.items():\n",
        "  if i < MAX_NUM_WORDS:\n",
        "    embedding_vector = word2vec.get(word)\n",
        "    if embedding_vector is not None:\n",
        "      # words not found in embedding index will be all zeros.\n",
        "      embedding_matrix[i] = embedding_vector"
      ],
      "execution_count": 19,
      "outputs": [
        {
          "output_type": "stream",
          "text": [
            "Filling pre-trained embeddings...\n"
          ],
          "name": "stdout"
        }
      ]
    },
    {
      "cell_type": "code",
      "metadata": {
        "id": "OG8A0WBbZT2x",
        "colab_type": "code",
        "colab": {
          "base_uri": "https://localhost:8080/",
          "height": 71
        },
        "outputId": "1e69660e-2311-4910-e59e-1013169b48b9"
      },
      "source": [
        "# create embedding layer\n",
        "embedding_layer = Embedding(\n",
        "  num_words,\n",
        "  EMBEDDING_DIM,\n",
        "  weights=[embedding_matrix],\n",
        "  input_length=max_len_input,\n",
        "  # trainable=True\n",
        ")\n"
      ],
      "execution_count": 20,
      "outputs": [
        {
          "output_type": "stream",
          "text": [
            "WARNING:tensorflow:From /usr/local/lib/python3.6/dist-packages/keras/backend/tensorflow_backend.py:66: The name tf.get_default_graph is deprecated. Please use tf.compat.v1.get_default_graph instead.\n",
            "\n"
          ],
          "name": "stdout"
        }
      ]
    },
    {
      "cell_type": "code",
      "metadata": {
        "id": "5JUs20B-ZXWw",
        "colab_type": "code",
        "colab": {}
      },
      "source": [
        "# create targets, since we cannot use sparse\n",
        "# categorical cross entropy when we have sequences\n",
        "decoder_targets_one_hot = np.zeros(\n",
        "  (\n",
        "    len(input_texts),\n",
        "    max_len_target,\n",
        "    num_words_output\n",
        "  ),\n",
        "  dtype='float32'\n",
        ")\n",
        "\n",
        "# assign the values\n",
        "for i, d in enumerate(decoder_targets):\n",
        "  for t, word in enumerate(d):\n",
        "    decoder_targets_one_hot[i, t, word] = 1"
      ],
      "execution_count": 0,
      "outputs": []
    },
    {
      "cell_type": "code",
      "metadata": {
        "id": "52fozQAoZfTt",
        "colab_type": "code",
        "colab": {
          "base_uri": "https://localhost:8080/",
          "height": 173
        },
        "outputId": "db29798a-6a6b-4f68-cb84-5b6163067ea9"
      },
      "source": [
        "##### build the model #####\n",
        "\n",
        "# Set up the encoder - simple!\n",
        "encoder_inputs_placeholder = Input(shape=(max_len_input,))\n",
        "x = embedding_layer(encoder_inputs_placeholder)\n",
        "encoder = Bidirectional(LSTM(\n",
        "  LATENT_DIM,\n",
        "  return_sequences=True,\n",
        "  # dropout=0.5 # dropout not available on gpu\n",
        "))\n",
        "encoder_outputs = encoder(x)\n",
        "\n",
        "\n",
        "# Set up the decoder - not so simple\n",
        "decoder_inputs_placeholder = Input(shape=(max_len_target,))\n",
        "\n",
        "# this word embedding will not use pre-trained vectors\n",
        "# although you could\n",
        "decoder_embedding = Embedding(num_words_output, EMBEDDING_DIM)\n",
        "decoder_inputs_x = decoder_embedding(decoder_inputs_placeholder)"
      ],
      "execution_count": 22,
      "outputs": [
        {
          "output_type": "stream",
          "text": [
            "WARNING:tensorflow:From /usr/local/lib/python3.6/dist-packages/keras/backend/tensorflow_backend.py:541: The name tf.placeholder is deprecated. Please use tf.compat.v1.placeholder instead.\n",
            "\n",
            "WARNING:tensorflow:From /usr/local/lib/python3.6/dist-packages/keras/backend/tensorflow_backend.py:4432: The name tf.random_uniform is deprecated. Please use tf.random.uniform instead.\n",
            "\n",
            "WARNING:tensorflow:From /usr/local/lib/python3.6/dist-packages/keras/backend/tensorflow_backend.py:216: The name tf.is_variable_initialized is deprecated. Please use tf.compat.v1.is_variable_initialized instead.\n",
            "\n",
            "WARNING:tensorflow:From /usr/local/lib/python3.6/dist-packages/keras/backend/tensorflow_backend.py:223: The name tf.variables_initializer is deprecated. Please use tf.compat.v1.variables_initializer instead.\n",
            "\n"
          ],
          "name": "stdout"
        }
      ]
    },
    {
      "cell_type": "code",
      "metadata": {
        "id": "aMwUXT1FZnG7",
        "colab_type": "code",
        "colab": {}
      },
      "source": [
        "######### Attention #########\n",
        "# Attention layers need to be global because\n",
        "# they will be repeated Ty times at the decoder\n",
        "attn_repeat_layer = RepeatVector(max_len_input)\n",
        "attn_concat_layer = Concatenate(axis=-1)\n",
        "attn_dense1 = Dense(10, activation='tanh')\n",
        "attn_dense2 = Dense(1, activation=softmax_over_time)\n",
        "attn_dot = Dot(axes=1) # to perform the weighted sum of alpha[t] * h[t]\n",
        "\n",
        "def one_step_attention(h, st_1):\n",
        "  # h = h(1), ..., h(Tx), shape = (Tx, LATENT_DIM * 2)\n",
        "  # st_1 = s(t-1), shape = (LATENT_DIM_DECODER,)\n",
        " \n",
        "  # copy s(t-1) Tx times\n",
        "  # now shape = (Tx, LATENT_DIM_DECODER)\n",
        "  st_1 = attn_repeat_layer(st_1)\n",
        "\n",
        "  # Concatenate all h(t)'s with s(t-1)\n",
        "  # Now of shape (Tx, LATENT_DIM_DECODER + LATENT_DIM * 2)\n",
        "  x = attn_concat_layer([h, st_1])\n",
        "\n",
        "  # Neural net first layer\n",
        "  x = attn_dense1(x)\n",
        "\n",
        "  # Neural net second layer with special softmax over time\n",
        "  alphas = attn_dense2(x)\n",
        "\n",
        "  # \"Dot\" the alphas and the h's\n",
        "  # Remember a.dot(b) = sum over a[t] * b[t]\n",
        "  context = attn_dot([alphas, h])\n",
        "\n",
        "  return context"
      ],
      "execution_count": 0,
      "outputs": []
    },
    {
      "cell_type": "code",
      "metadata": {
        "id": "QdtLL1CZZrw1",
        "colab_type": "code",
        "colab": {}
      },
      "source": [
        "# define the rest of the decoder (after attention)\n",
        "decoder_lstm = LSTM(LATENT_DIM_DECODER, return_state=True)\n",
        "decoder_dense = Dense(num_words_output, activation='softmax')\n",
        "\n",
        "initial_s = Input(shape=(LATENT_DIM_DECODER,), name='s0')\n",
        "initial_c = Input(shape=(LATENT_DIM_DECODER,), name='c0')\n",
        "context_last_word_concat_layer = Concatenate(axis=2)\n"
      ],
      "execution_count": 0,
      "outputs": []
    },
    {
      "cell_type": "code",
      "metadata": {
        "id": "llDzES5yaS06",
        "colab_type": "code",
        "colab": {}
      },
      "source": [
        "# Unlike previous seq2seq, we cannot get the output\n",
        "# all in one step\n",
        "# Instead we need to do Ty steps\n",
        "# And in each of those steps, we need to consider\n",
        "# all Tx h's\n",
        "\n",
        "# s, c will be re-assigned in each iteration of the loop\n",
        "s = initial_s\n",
        "c = initial_c\n",
        "\n",
        "# collect outputs in a list at first\n",
        "outputs = []\n",
        "for t in range(max_len_target): # Ty times\n",
        "  # get the context using attention\n",
        "  context = one_step_attention(encoder_outputs, s)\n",
        "\n",
        "  # we need a different layer for each time step\n",
        "  selector = Lambda(lambda x: x[:, t:t+1])\n",
        "  xt = selector(decoder_inputs_x)\n",
        "  \n",
        "  # combine \n",
        "  decoder_lstm_input = context_last_word_concat_layer([context, xt])\n",
        "\n",
        "  # pass the combined [context, last word] into the LSTM\n",
        "  # along with [s, c]\n",
        "  # get the new [s, c] and output\n",
        "  o, s, c = decoder_lstm(decoder_lstm_input, initial_state=[s, c])\n",
        "\n",
        "  # final dense layer to get next word prediction\n",
        "  decoder_outputs = decoder_dense(o)\n",
        "  outputs.append(decoder_outputs)\n"
      ],
      "execution_count": 0,
      "outputs": []
    },
    {
      "cell_type": "code",
      "metadata": {
        "id": "oyGrTJLWaXxg",
        "colab_type": "code",
        "colab": {}
      },
      "source": [
        "# 'outputs' is now a list of length Ty\n",
        "# each element is of shape (batch size, output vocab size)\n",
        "# therefore if we simply stack all the outputs into 1 tensor\n",
        "# it would be of shape T x N x D\n",
        "# we would like it to be of shape N x T x D\n",
        "\n",
        "def stack_and_transpose(x):\n",
        "  # x is a list of length T, each element is a batch_size x output_vocab_size tensor\n",
        "  x = K.stack(x) # is now T x batch_size x output_vocab_size tensor\n",
        "  x = K.permute_dimensions(x, pattern=(1, 0, 2)) # is now batch_size x T x output_vocab_size\n",
        "  return x\n",
        "\n",
        "# make it a layer\n",
        "stacker = Lambda(stack_and_transpose)\n",
        "outputs = stacker(outputs)"
      ],
      "execution_count": 0,
      "outputs": []
    },
    {
      "cell_type": "code",
      "metadata": {
        "id": "0vJtE_Iiabo8",
        "colab_type": "code",
        "colab": {}
      },
      "source": [
        "# create the model\n",
        "model = Model(\n",
        "  inputs=[\n",
        "    encoder_inputs_placeholder,\n",
        "    decoder_inputs_placeholder,\n",
        "    initial_s, \n",
        "    initial_c,\n",
        "  ],\n",
        "  outputs=outputs\n",
        ")\n"
      ],
      "execution_count": 0,
      "outputs": []
    },
    {
      "cell_type": "code",
      "metadata": {
        "id": "fNh-RJBkd3Np",
        "colab_type": "code",
        "colab": {}
      },
      "source": [
        "def custom_loss(y_true, y_pred):\n",
        "  # both are of shape N x T x K\n",
        "  mask = K.cast(y_true > 0, dtype='float32')\n",
        "  out = mask * y_true * K.log(y_pred)\n",
        "  return -K.sum(out) / K.sum(mask)\n",
        "\n",
        "\n",
        "def acc(y_true, y_pred):\n",
        "  # both are of shape N x T x K\n",
        "  targ = K.argmax(y_true, axis=-1)\n",
        "  pred = K.argmax(y_pred, axis=-1)\n",
        "  correct = K.cast(K.equal(targ, pred), dtype='float32')\n",
        "\n",
        "  # 0 is padding, don't include those\n",
        "  mask = K.cast(K.greater(targ, 0), dtype='float32')\n",
        "  n_correct = K.sum(mask * correct)\n",
        "  n_total = K.sum(mask)\n",
        "  return n_correct / n_total"
      ],
      "execution_count": 0,
      "outputs": []
    },
    {
      "cell_type": "code",
      "metadata": {
        "id": "bdg7YrHOhIGE",
        "colab_type": "code",
        "colab": {}
      },
      "source": [
        "# compile the model\n",
        "model.compile(optimizer='adam', loss=custom_loss, metrics=[acc])\n",
        "# model.compile(optimizer='rmsprop', loss='categorical_crossentropy', metrics=['acc'])\n",
        "\n",
        "# train the model\n",
        "z = np.zeros((len(encoder_inputs), LATENT_DIM_DECODER)) # initial [s, c]\n",
        "r = model.fit(\n",
        "  [encoder_inputs, decoder_inputs, z, z], decoder_targets_one_hot,\n",
        "  batch_size=BATCH_SIZE,\n",
        "  epochs=EPOCHS,\n",
        "  validation_split=0.2\n",
        ")\n",
        "\n",
        "\n",
        "\n",
        "# plot some data\n",
        "plt.plot(r.history['loss'], label='loss')\n",
        "plt.plot(r.history['val_loss'], label='val_loss')\n",
        "plt.legend()\n",
        "plt.show()\n",
        "\n",
        "# accuracies\n",
        "plt.plot(r.history['acc'], label='acc')\n",
        "plt.plot(r.history['val_acc'], label='val_acc')\n",
        "plt.legend()\n",
        "plt.show()"
      ],
      "execution_count": 0,
      "outputs": []
    },
    {
      "cell_type": "code",
      "metadata": {
        "id": "xrHVfTLA_t9I",
        "colab_type": "code",
        "colab": {
          "base_uri": "https://localhost:8080/",
          "height": 1000
        },
        "outputId": "e1f8b1a3-b2bf-44f4-f1a1-89589de817df"
      },
      "source": [
        "##### Make predictions #####\n",
        "# As with the poetry example, we need to create another model\n",
        "# that can take in the RNN state and previous word as input\n",
        "# and accept a T=1 sequence.\n",
        "\n",
        "# The encoder will be stand-alone\n",
        "# From this we will get our initial decoder hidden state\n",
        "# i.e. h(1), ..., h(Tx)\n",
        "encoder_model = Model(encoder_inputs_placeholder, encoder_outputs)\n",
        "\n",
        "# next we define a T=1 decoder model\n",
        "encoder_outputs_as_input = Input(shape=(max_len_input, LATENT_DIM * 2,))\n",
        "decoder_inputs_single = Input(shape=(1,))\n",
        "decoder_inputs_single_x = decoder_embedding(decoder_inputs_single)\n",
        "\n",
        "# no need to loop over attention steps this time because there is only one step\n",
        "context = one_step_attention(encoder_outputs_as_input, initial_s)\n",
        "\n",
        "# combine context with last word\n",
        "decoder_lstm_input = context_last_word_concat_layer([context, decoder_inputs_single_x])\n",
        "\n",
        "\n",
        "\n",
        "\n",
        "# lstm and final dense\n",
        "o, s, c = decoder_lstm(decoder_lstm_input, initial_state=[initial_s, initial_c])\n",
        "decoder_outputs = decoder_dense(o)\n",
        "\n",
        "\n",
        "# note: we don't really need the final stack and tranpose\n",
        "# because there's only 1 output\n",
        "# it is already of size N x D\n",
        "# no need to make it 1 x N x D --> N x 1 x D\n",
        "\n",
        "\n",
        "\n",
        "# create the model object\n",
        "decoder_model = Model(\n",
        "  inputs=[\n",
        "    decoder_inputs_single,\n",
        "    encoder_outputs_as_input,\n",
        "    initial_s, \n",
        "    initial_c\n",
        "  ],\n",
        "  outputs=[decoder_outputs, s, c]\n",
        ")\n",
        "\n",
        "\n",
        "\n",
        "# map indexes back into real words\n",
        "# so we can view the results\n",
        "idx2word_eng = {v:k for k, v in word2idx_inputs.items()}\n",
        "idx2word_trans = {v:k for k, v in word2idx_outputs.items()}\n",
        "\n",
        "\n",
        "\n",
        "\n",
        "\n",
        "def decode_sequence(input_seq):\n",
        "  # Encode the input as state vectors.\n",
        "  enc_out = encoder_model.predict(input_seq)\n",
        "\n",
        "  # Generate empty target sequence of length 1.\n",
        "  target_seq = np.zeros((1, 1))\n",
        "  \n",
        "  # Populate the first character of target sequence with the start character.\n",
        "  # NOTE: tokenizer lower-cases all words\n",
        "  target_seq[0, 0] = word2idx_outputs['<sos>']\n",
        "\n",
        "  # if we get this we break\n",
        "  eos = word2idx_outputs['<eos>']\n",
        "\n",
        "\n",
        "  # [s, c] will be updated in each loop iteration\n",
        "  s = np.zeros((1, LATENT_DIM_DECODER))\n",
        "  c = np.zeros((1, LATENT_DIM_DECODER))\n",
        "\n",
        "\n",
        "  # Create the translation\n",
        "  output_sentence = []\n",
        "  for _ in range(max_len_target):\n",
        "    o, s, c = decoder_model.predict([target_seq, enc_out, s, c])\n",
        "        \n",
        "\n",
        "    # Get next word\n",
        "    idx = np.argmax(o.flatten())\n",
        "\n",
        "    # End sentence of EOS\n",
        "    if eos == idx:\n",
        "      break\n",
        "\n",
        "    word = ''\n",
        "    if idx > 0:\n",
        "      word = idx2word_trans[idx]\n",
        "      output_sentence.append(word)\n",
        "\n",
        "    # Update the decoder input\n",
        "    # which is just the word just generated\n",
        "    target_seq[0, 0] = idx\n",
        "\n",
        "  return ' '.join(output_sentence)\n",
        "\n",
        "\n",
        "\n",
        "\n",
        "while True:\n",
        "  # Do some test translations\n",
        "  i = np.random.choice(len(input_texts))\n",
        "  input_seq = encoder_inputs[i:i+1]\n",
        "  translation = decode_sequence(input_seq)\n",
        "  print('-')\n",
        "  print('Input sentence:', input_texts[i])\n",
        "  print('Predicted translation:', translation)\n",
        "  print('Actual translation:', target_texts[i])\n",
        "\n",
        "  ans = input(\"Continue? [Y/n]\")\n",
        "  if ans and ans.lower().startswith('n'):\n",
        "    break\n",
        "\n"
      ],
      "execution_count": 28,
      "outputs": [
        {
          "output_type": "stream",
          "text": [
            "WARNING:tensorflow:From /usr/local/lib/python3.6/dist-packages/keras/optimizers.py:793: The name tf.train.Optimizer is deprecated. Please use tf.compat.v1.train.Optimizer instead.\n",
            "\n",
            "WARNING:tensorflow:From /usr/local/lib/python3.6/dist-packages/keras/backend/tensorflow_backend.py:1702: The name tf.log is deprecated. Please use tf.math.log instead.\n",
            "\n",
            "WARNING:tensorflow:From /usr/local/lib/python3.6/dist-packages/keras/backend/tensorflow_backend.py:1033: The name tf.assign_add is deprecated. Please use tf.compat.v1.assign_add instead.\n",
            "\n",
            "WARNING:tensorflow:From /usr/local/lib/python3.6/dist-packages/keras/backend/tensorflow_backend.py:1020: The name tf.assign is deprecated. Please use tf.compat.v1.assign instead.\n",
            "\n",
            "Train on 8000 samples, validate on 2000 samples\n",
            "Epoch 1/100\n",
            "8000/8000 [==============================] - 16s 2ms/step - loss: 2.9925 - acc: 0.0291 - val_loss: 2.5722 - val_acc: 0.1102\n",
            "Epoch 2/100\n",
            "8000/8000 [==============================] - 7s 894us/step - loss: 2.1165 - acc: 0.2537 - val_loss: 2.3679 - val_acc: 0.2512\n",
            "Epoch 3/100\n",
            "8000/8000 [==============================] - 7s 903us/step - loss: 1.9399 - acc: 0.2950 - val_loss: 2.2975 - val_acc: 0.2615\n",
            "Epoch 4/100\n",
            "8000/8000 [==============================] - 7s 905us/step - loss: 1.8511 - acc: 0.3016 - val_loss: 2.2585 - val_acc: 0.2643\n",
            "Epoch 5/100\n",
            "8000/8000 [==============================] - 7s 894us/step - loss: 1.7942 - acc: 0.3199 - val_loss: 2.2396 - val_acc: 0.2764\n",
            "Epoch 6/100\n",
            "8000/8000 [==============================] - 7s 891us/step - loss: 1.7475 - acc: 0.3368 - val_loss: 2.2016 - val_acc: 0.2780\n",
            "Epoch 7/100\n",
            "8000/8000 [==============================] - 7s 890us/step - loss: 1.6991 - acc: 0.3507 - val_loss: 2.1628 - val_acc: 0.2960\n",
            "Epoch 8/100\n",
            "8000/8000 [==============================] - 7s 874us/step - loss: 1.6351 - acc: 0.3699 - val_loss: 2.0937 - val_acc: 0.3042\n",
            "Epoch 9/100\n",
            "8000/8000 [==============================] - 7s 894us/step - loss: 1.5533 - acc: 0.3847 - val_loss: 2.0318 - val_acc: 0.3171\n",
            "Epoch 10/100\n",
            "8000/8000 [==============================] - 7s 891us/step - loss: 1.4647 - acc: 0.4070 - val_loss: 1.9656 - val_acc: 0.3427\n",
            "Epoch 11/100\n",
            "8000/8000 [==============================] - 7s 889us/step - loss: 1.3727 - acc: 0.4357 - val_loss: 1.8955 - val_acc: 0.3551\n",
            "Epoch 12/100\n",
            "8000/8000 [==============================] - 7s 904us/step - loss: 1.2839 - acc: 0.4600 - val_loss: 1.8477 - val_acc: 0.3695\n",
            "Epoch 13/100\n",
            "8000/8000 [==============================] - 7s 889us/step - loss: 1.2025 - acc: 0.4850 - val_loss: 1.7942 - val_acc: 0.3957\n",
            "Epoch 14/100\n",
            "8000/8000 [==============================] - 7s 887us/step - loss: 1.1311 - acc: 0.5085 - val_loss: 1.7816 - val_acc: 0.4143\n",
            "Epoch 15/100\n",
            "8000/8000 [==============================] - 7s 904us/step - loss: 1.0648 - acc: 0.5288 - val_loss: 1.7599 - val_acc: 0.4270\n",
            "Epoch 16/100\n",
            "8000/8000 [==============================] - 7s 880us/step - loss: 1.0039 - acc: 0.5447 - val_loss: 1.7413 - val_acc: 0.4398\n",
            "Epoch 17/100\n",
            "8000/8000 [==============================] - 7s 896us/step - loss: 0.9475 - acc: 0.5581 - val_loss: 1.7343 - val_acc: 0.4459\n",
            "Epoch 18/100\n",
            "8000/8000 [==============================] - 7s 882us/step - loss: 0.8941 - acc: 0.5696 - val_loss: 1.7242 - val_acc: 0.4529\n",
            "Epoch 19/100\n",
            "8000/8000 [==============================] - 7s 902us/step - loss: 0.8421 - acc: 0.5823 - val_loss: 1.7235 - val_acc: 0.4523\n",
            "Epoch 20/100\n",
            "8000/8000 [==============================] - 7s 888us/step - loss: 0.7931 - acc: 0.5975 - val_loss: 1.7115 - val_acc: 0.4590\n",
            "Epoch 21/100\n",
            "8000/8000 [==============================] - 7s 864us/step - loss: 0.7431 - acc: 0.6124 - val_loss: 1.7119 - val_acc: 0.4601\n",
            "Epoch 22/100\n",
            "8000/8000 [==============================] - 7s 898us/step - loss: 0.6951 - acc: 0.6261 - val_loss: 1.7069 - val_acc: 0.4625\n",
            "Epoch 23/100\n",
            "8000/8000 [==============================] - 7s 892us/step - loss: 0.6480 - acc: 0.6422 - val_loss: 1.6959 - val_acc: 0.4685\n",
            "Epoch 24/100\n",
            "8000/8000 [==============================] - 7s 878us/step - loss: 0.6030 - acc: 0.6599 - val_loss: 1.6901 - val_acc: 0.4754\n",
            "Epoch 25/100\n",
            "8000/8000 [==============================] - 7s 882us/step - loss: 0.5571 - acc: 0.6785 - val_loss: 1.6893 - val_acc: 0.4779\n",
            "Epoch 26/100\n",
            "8000/8000 [==============================] - 7s 883us/step - loss: 0.5150 - acc: 0.6973 - val_loss: 1.6951 - val_acc: 0.4763\n",
            "Epoch 27/100\n",
            "8000/8000 [==============================] - 7s 870us/step - loss: 0.4757 - acc: 0.7164 - val_loss: 1.6939 - val_acc: 0.4759\n",
            "Epoch 28/100\n",
            "8000/8000 [==============================] - 7s 878us/step - loss: 0.4378 - acc: 0.7352 - val_loss: 1.6946 - val_acc: 0.4807\n",
            "Epoch 29/100\n",
            "8000/8000 [==============================] - 7s 897us/step - loss: 0.4030 - acc: 0.7530 - val_loss: 1.6971 - val_acc: 0.4793\n",
            "Epoch 30/100\n",
            "8000/8000 [==============================] - 7s 881us/step - loss: 0.3708 - acc: 0.7682 - val_loss: 1.7047 - val_acc: 0.4812\n",
            "Epoch 31/100\n",
            "8000/8000 [==============================] - 7s 878us/step - loss: 0.3412 - acc: 0.7839 - val_loss: 1.7145 - val_acc: 0.4835\n",
            "Epoch 32/100\n",
            "8000/8000 [==============================] - 7s 871us/step - loss: 0.3145 - acc: 0.7951 - val_loss: 1.7009 - val_acc: 0.4851\n",
            "Epoch 33/100\n",
            "8000/8000 [==============================] - 7s 899us/step - loss: 0.2904 - acc: 0.8069 - val_loss: 1.7149 - val_acc: 0.4803\n",
            "Epoch 34/100\n",
            "8000/8000 [==============================] - 7s 873us/step - loss: 0.2682 - acc: 0.8164 - val_loss: 1.7107 - val_acc: 0.4856\n",
            "Epoch 35/100\n",
            "8000/8000 [==============================] - 7s 882us/step - loss: 0.2492 - acc: 0.8229 - val_loss: 1.7159 - val_acc: 0.4855\n",
            "Epoch 36/100\n",
            "8000/8000 [==============================] - 7s 879us/step - loss: 0.2323 - acc: 0.8299 - val_loss: 1.7208 - val_acc: 0.4829\n",
            "Epoch 37/100\n",
            "8000/8000 [==============================] - 7s 874us/step - loss: 0.2175 - acc: 0.8346 - val_loss: 1.7212 - val_acc: 0.4842\n",
            "Epoch 38/100\n",
            "8000/8000 [==============================] - 7s 895us/step - loss: 0.2037 - acc: 0.8394 - val_loss: 1.7272 - val_acc: 0.4841\n",
            "Epoch 39/100\n",
            "8000/8000 [==============================] - 7s 924us/step - loss: 0.1922 - acc: 0.8434 - val_loss: 1.7305 - val_acc: 0.4880\n",
            "Epoch 40/100\n",
            "8000/8000 [==============================] - 7s 894us/step - loss: 0.1817 - acc: 0.8452 - val_loss: 1.7412 - val_acc: 0.4898\n",
            "Epoch 41/100\n",
            "8000/8000 [==============================] - 7s 888us/step - loss: 0.1723 - acc: 0.8487 - val_loss: 1.7487 - val_acc: 0.4885\n",
            "Epoch 42/100\n",
            "8000/8000 [==============================] - 7s 881us/step - loss: 0.1645 - acc: 0.8502 - val_loss: 1.7503 - val_acc: 0.4899\n",
            "Epoch 43/100\n",
            "8000/8000 [==============================] - 7s 892us/step - loss: 0.1571 - acc: 0.8525 - val_loss: 1.7519 - val_acc: 0.4911\n",
            "Epoch 44/100\n",
            "8000/8000 [==============================] - 7s 874us/step - loss: 0.1511 - acc: 0.8535 - val_loss: 1.7568 - val_acc: 0.4896\n",
            "Epoch 45/100\n",
            "8000/8000 [==============================] - 7s 888us/step - loss: 0.1454 - acc: 0.8566 - val_loss: 1.7701 - val_acc: 0.4880\n",
            "Epoch 46/100\n",
            "8000/8000 [==============================] - 7s 901us/step - loss: 0.1405 - acc: 0.8557 - val_loss: 1.7726 - val_acc: 0.4911\n",
            "Epoch 47/100\n",
            "8000/8000 [==============================] - 7s 877us/step - loss: 0.1365 - acc: 0.8577 - val_loss: 1.7803 - val_acc: 0.4896\n",
            "Epoch 48/100\n",
            "8000/8000 [==============================] - 7s 896us/step - loss: 0.1322 - acc: 0.8601 - val_loss: 1.7806 - val_acc: 0.4917\n",
            "Epoch 49/100\n",
            "8000/8000 [==============================] - 7s 883us/step - loss: 0.1289 - acc: 0.8586 - val_loss: 1.7909 - val_acc: 0.4868\n",
            "Epoch 50/100\n",
            "8000/8000 [==============================] - 7s 901us/step - loss: 0.1257 - acc: 0.8592 - val_loss: 1.7872 - val_acc: 0.4907\n",
            "Epoch 51/100\n",
            "8000/8000 [==============================] - 7s 903us/step - loss: 0.1235 - acc: 0.8608 - val_loss: 1.7941 - val_acc: 0.4910\n",
            "Epoch 52/100\n",
            "8000/8000 [==============================] - 7s 887us/step - loss: 0.1207 - acc: 0.8603 - val_loss: 1.8183 - val_acc: 0.4877\n",
            "Epoch 53/100\n",
            "8000/8000 [==============================] - 7s 883us/step - loss: 0.1177 - acc: 0.8620 - val_loss: 1.8166 - val_acc: 0.4859\n",
            "Epoch 54/100\n",
            "8000/8000 [==============================] - 7s 896us/step - loss: 0.1151 - acc: 0.8638 - val_loss: 1.8238 - val_acc: 0.4858\n",
            "Epoch 55/100\n",
            "8000/8000 [==============================] - 7s 875us/step - loss: 0.1140 - acc: 0.8623 - val_loss: 1.8243 - val_acc: 0.4905\n",
            "Epoch 56/100\n",
            "8000/8000 [==============================] - 7s 905us/step - loss: 0.1118 - acc: 0.8621 - val_loss: 1.8267 - val_acc: 0.4925\n",
            "Epoch 57/100\n",
            "8000/8000 [==============================] - 7s 886us/step - loss: 0.1103 - acc: 0.8643 - val_loss: 1.8329 - val_acc: 0.4885\n",
            "Epoch 58/100\n",
            "8000/8000 [==============================] - 7s 872us/step - loss: 0.1087 - acc: 0.8639 - val_loss: 1.8354 - val_acc: 0.4862\n",
            "Epoch 59/100\n",
            "8000/8000 [==============================] - 7s 902us/step - loss: 0.1073 - acc: 0.8629 - val_loss: 1.8349 - val_acc: 0.4867\n",
            "Epoch 60/100\n",
            "8000/8000 [==============================] - 7s 883us/step - loss: 0.1068 - acc: 0.8618 - val_loss: 1.8597 - val_acc: 0.4906\n",
            "Epoch 61/100\n",
            "8000/8000 [==============================] - 7s 886us/step - loss: 0.1052 - acc: 0.8635 - val_loss: 1.8468 - val_acc: 0.4903\n",
            "Epoch 62/100\n",
            "8000/8000 [==============================] - 7s 878us/step - loss: 0.1041 - acc: 0.8634 - val_loss: 1.8617 - val_acc: 0.4887\n",
            "Epoch 63/100\n",
            "8000/8000 [==============================] - 7s 889us/step - loss: 0.1031 - acc: 0.8640 - val_loss: 1.8649 - val_acc: 0.4885\n",
            "Epoch 64/100\n",
            "8000/8000 [==============================] - 7s 890us/step - loss: 0.1021 - acc: 0.8641 - val_loss: 1.8614 - val_acc: 0.4898\n",
            "Epoch 65/100\n",
            "8000/8000 [==============================] - 7s 887us/step - loss: 0.1010 - acc: 0.8657 - val_loss: 1.8794 - val_acc: 0.4870\n",
            "Epoch 66/100\n",
            "8000/8000 [==============================] - 7s 885us/step - loss: 0.1005 - acc: 0.8637 - val_loss: 1.8843 - val_acc: 0.4879\n",
            "Epoch 67/100\n",
            "8000/8000 [==============================] - 7s 894us/step - loss: 0.0997 - acc: 0.8639 - val_loss: 1.8783 - val_acc: 0.4886\n",
            "Epoch 68/100\n",
            "8000/8000 [==============================] - 7s 870us/step - loss: 0.0991 - acc: 0.8631 - val_loss: 1.9011 - val_acc: 0.4853\n",
            "Epoch 69/100\n",
            "8000/8000 [==============================] - 7s 879us/step - loss: 0.0988 - acc: 0.8643 - val_loss: 1.9085 - val_acc: 0.4839\n",
            "Epoch 70/100\n",
            "8000/8000 [==============================] - 7s 873us/step - loss: 0.0984 - acc: 0.8645 - val_loss: 1.8948 - val_acc: 0.4858\n",
            "Epoch 71/100\n",
            "8000/8000 [==============================] - 7s 885us/step - loss: 0.0981 - acc: 0.8644 - val_loss: 1.9050 - val_acc: 0.4844\n",
            "Epoch 72/100\n",
            "8000/8000 [==============================] - 7s 889us/step - loss: 0.0975 - acc: 0.8637 - val_loss: 1.9132 - val_acc: 0.4824\n",
            "Epoch 73/100\n",
            "8000/8000 [==============================] - 7s 870us/step - loss: 0.0964 - acc: 0.8635 - val_loss: 1.9306 - val_acc: 0.4829\n",
            "Epoch 74/100\n",
            "8000/8000 [==============================] - 7s 898us/step - loss: 0.0957 - acc: 0.8634 - val_loss: 1.9205 - val_acc: 0.4881\n",
            "Epoch 75/100\n",
            "8000/8000 [==============================] - 7s 899us/step - loss: 0.0950 - acc: 0.8638 - val_loss: 1.9214 - val_acc: 0.4830\n",
            "Epoch 76/100\n",
            "8000/8000 [==============================] - 7s 887us/step - loss: 0.0943 - acc: 0.8633 - val_loss: 1.9323 - val_acc: 0.4842\n",
            "Epoch 77/100\n",
            "8000/8000 [==============================] - 7s 903us/step - loss: 0.0945 - acc: 0.8645 - val_loss: 1.9288 - val_acc: 0.4830\n",
            "Epoch 78/100\n",
            "8000/8000 [==============================] - 7s 872us/step - loss: 0.0939 - acc: 0.8639 - val_loss: 1.9321 - val_acc: 0.4842\n",
            "Epoch 79/100\n",
            "8000/8000 [==============================] - 7s 872us/step - loss: 0.0934 - acc: 0.8655 - val_loss: 1.9331 - val_acc: 0.4826\n",
            "Epoch 80/100\n",
            "8000/8000 [==============================] - 7s 908us/step - loss: 0.0930 - acc: 0.8640 - val_loss: 1.9448 - val_acc: 0.4818\n",
            "Epoch 81/100\n",
            "8000/8000 [==============================] - 7s 873us/step - loss: 0.0929 - acc: 0.8641 - val_loss: 1.9480 - val_acc: 0.4829\n",
            "Epoch 82/100\n",
            "8000/8000 [==============================] - 7s 884us/step - loss: 0.0927 - acc: 0.8648 - val_loss: 1.9506 - val_acc: 0.4827\n",
            "Epoch 83/100\n",
            "8000/8000 [==============================] - 7s 906us/step - loss: 0.0924 - acc: 0.8653 - val_loss: 1.9618 - val_acc: 0.4836\n",
            "Epoch 84/100\n",
            "8000/8000 [==============================] - 7s 895us/step - loss: 0.0920 - acc: 0.8637 - val_loss: 1.9569 - val_acc: 0.4833\n",
            "Epoch 85/100\n",
            "8000/8000 [==============================] - 7s 885us/step - loss: 0.0916 - acc: 0.8640 - val_loss: 1.9735 - val_acc: 0.4845\n",
            "Epoch 86/100\n",
            "8000/8000 [==============================] - 7s 878us/step - loss: 0.0915 - acc: 0.8621 - val_loss: 1.9780 - val_acc: 0.4815\n",
            "Epoch 87/100\n",
            "8000/8000 [==============================] - 7s 894us/step - loss: 0.0917 - acc: 0.8645 - val_loss: 1.9896 - val_acc: 0.4815\n",
            "Epoch 88/100\n",
            "8000/8000 [==============================] - 7s 901us/step - loss: 0.0924 - acc: 0.8645 - val_loss: 1.9783 - val_acc: 0.4821\n",
            "Epoch 89/100\n",
            "8000/8000 [==============================] - 7s 890us/step - loss: 0.0908 - acc: 0.8652 - val_loss: 1.9921 - val_acc: 0.4810\n",
            "Epoch 90/100\n",
            "8000/8000 [==============================] - 7s 879us/step - loss: 0.0906 - acc: 0.8640 - val_loss: 1.9979 - val_acc: 0.4813\n",
            "Epoch 91/100\n",
            "8000/8000 [==============================] - 7s 891us/step - loss: 0.0900 - acc: 0.8648 - val_loss: 1.9801 - val_acc: 0.4871\n",
            "Epoch 92/100\n",
            "8000/8000 [==============================] - 7s 874us/step - loss: 0.0903 - acc: 0.8646 - val_loss: 2.0037 - val_acc: 0.4793\n",
            "Epoch 93/100\n",
            "8000/8000 [==============================] - 7s 895us/step - loss: 0.0894 - acc: 0.8648 - val_loss: 2.0113 - val_acc: 0.4816\n",
            "Epoch 94/100\n",
            "8000/8000 [==============================] - 7s 887us/step - loss: 0.0895 - acc: 0.8643 - val_loss: 2.0128 - val_acc: 0.4813\n",
            "Epoch 95/100\n",
            "8000/8000 [==============================] - 7s 888us/step - loss: 0.0896 - acc: 0.8653 - val_loss: 2.0120 - val_acc: 0.4840\n",
            "Epoch 96/100\n",
            "8000/8000 [==============================] - 7s 888us/step - loss: 0.0894 - acc: 0.8653 - val_loss: 2.0077 - val_acc: 0.4846\n",
            "Epoch 97/100\n",
            "8000/8000 [==============================] - 7s 876us/step - loss: 0.0890 - acc: 0.8644 - val_loss: 2.0296 - val_acc: 0.4820\n",
            "Epoch 98/100\n",
            "8000/8000 [==============================] - 7s 888us/step - loss: 0.0895 - acc: 0.8636 - val_loss: 2.0262 - val_acc: 0.4812\n",
            "Epoch 99/100\n",
            "8000/8000 [==============================] - 7s 888us/step - loss: 0.0887 - acc: 0.8639 - val_loss: 2.0256 - val_acc: 0.4810\n",
            "Epoch 100/100\n",
            "8000/8000 [==============================] - 7s 880us/step - loss: 0.0899 - acc: 0.8621 - val_loss: 2.0420 - val_acc: 0.4825\n"
          ],
          "name": "stdout"
        },
        {
          "output_type": "display_data",
          "data": {
            "image/png": "[encoded data removed]",
            "text/plain": [
              "<Figure size 432x288 with 1 Axes>"
            ]
          },
          "metadata": {
            "tags": []
          }
        },
        {
          "output_type": "display_data",
          "data": {
            "image/png": "[encoded data removed]",
            "text/plain": [
              "<Figure size 432x288 with 1 Axes>"
            ]
          },
          "metadata": {
            "tags": []
          }
        },
        {
          "output_type": "stream",
          "text": [
            "-\n",
            "Input sentence: He hugged her.\n",
            "Predicted translation: il l'enlaça.\n",
            "Actual translation: Il l'enlaça. <eos>\n",
            "Continue? [Y/n]Y\n",
            "-\n",
            "Input sentence: It's garbage.\n",
            "Predicted translation: ce sont des conneries.\n",
            "Actual translation: C'est de la daube. <eos>\n",
            "Continue? [Y/n]Y\n",
            "-\n",
            "Input sentence: Tom cheats.\n",
            "Predicted translation: tom triche.\n",
            "Actual translation: Tom triche. <eos>\n",
            "Continue? [Y/n]Y\n",
            "-\n",
            "Input sentence: Drink it down.\n",
            "Predicted translation: bois-le !\n",
            "Actual translation: Bois-le ! <eos>\n",
            "Continue? [Y/n]n\n"
          ],
          "name": "stdout"
        }
      ]
    },
    {
      "cell_type": "code",
      "metadata": {
        "id": "_T5Z0CrRhTgt",
        "colab_type": "code",
        "colab": {}
      },
      "source": [
        ""
      ],
      "execution_count": 0,
      "outputs": []
    }
  ]
}