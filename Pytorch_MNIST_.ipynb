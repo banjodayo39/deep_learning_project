{
 "cells": [
  {
   "cell_type": "code",
   "execution_count": 79,
   "metadata": {},
   "outputs": [],
   "source": [
    "import numpy as np\n",
    "import torch \n",
    "import matplotlib.pyplot as plt "
   ]
  },
  {
   "cell_type": "code",
   "execution_count": 107,
   "metadata": {},
   "outputs": [],
   "source": [
    "import help"
   ]
  },
  {
   "cell_type": "code",
   "execution_count": 114,
   "metadata": {
    "scrolled": true
   },
   "outputs": [],
   "source": [
    "from torchvision import datasets,transforms \n",
    "from torch import nn\n",
    "from torch import optim\n",
    "import torch.nn.functional as F\n"
   ]
  },
  {
   "cell_type": "code",
   "execution_count": 81,
   "metadata": {},
   "outputs": [],
   "source": [
    "# Define a transform to normalize the data\n",
    "transform = transforms.Compose([transforms.ToTensor(),\n",
    "                              transforms.Normalize((0.5,), (0.5,)),\n",
    "                              ])\n",
    "# Download and load the training data\n",
    "trainset = datasets.MNIST('~/.pytorch/MNIST_data/', download=True, train=True, transform=transform)\n",
    "trainloader = torch.utils.data.DataLoader(trainset, batch_size=64, shuffle=True)\n"
   ]
  },
  {
   "cell_type": "code",
   "execution_count": 82,
   "metadata": {},
   "outputs": [
    {
     "name": "stdout",
     "output_type": "stream",
     "text": [
      "<class 'torch.Tensor'>\n",
      "torch.Size([64, 1, 28, 28])\n",
      "torch.Size([64])\n"
     ]
    }
   ],
   "source": [
    "dataiter = iter(trainloader)\n",
    "images, labels = dataiter.next()\n",
    "print(type(images))\n",
    "print(images.shape)\n",
    "print(labels.shape)"
   ]
  },
  {
   "cell_type": "code",
   "execution_count": 83,
   "metadata": {},
   "outputs": [
    {
     "data": {
      "image/png": "[encoded data removed]",
      "text/plain": [
       "<Figure size 432x288 with 1 Axes>"
      ]
     },
     "metadata": {
      "needs_background": "light"
     },
     "output_type": "display_data"
    }
   ],
   "source": [
    "# to see what one images look like \n",
    "plt.imshow(images[2].numpy().squeeze(), cmap='Greys_r');\n"
   ]
  },
  {
   "cell_type": "code",
   "execution_count": 84,
   "metadata": {},
   "outputs": [],
   "source": [
    "def activation(x):\n",
    "    return 1/(1 + torch.exp(-x))\n",
    "\n",
    "#Flatten in the input \n",
    "inputs = images.view(images.shape[0], -1)\n",
    "\n",
    "#Create the parameters\n",
    "w1 = torch.randn(784, 256)\n",
    "b1 = torch.randn(256)\n",
    "\n",
    "w2 = torch.randn(256, 10)\n",
    "b2 = torch.randn(10)\n",
    "\n",
    "h = activation(torch.mm(inputs, w1) + b1)\n",
    "output = torch.mm(h, w2) + b2"
   ]
  },
  {
   "cell_type": "code",
   "execution_count": 85,
   "metadata": {},
   "outputs": [
    {
     "data": {
      "text/plain": [
       "(torch.Size([64, 784]), torch.Size([64, 10]))"
      ]
     },
     "execution_count": 85,
     "metadata": {},
     "output_type": "execute_result"
    }
   ],
   "source": [
    "inputs.shape, output.shape "
   ]
  },
  {
   "cell_type": "code",
   "execution_count": 86,
   "metadata": {},
   "outputs": [
    {
     "data": {
      "text/plain": [
       "tensor([[-7.8573e+00,  3.1242e+00, -1.8663e+01,  8.4336e+00,  1.4021e+00,\n",
       "         -1.0145e+00,  3.6487e+00,  9.0754e+00,  4.5454e+00, -5.5710e+00],\n",
       "        [-2.3771e+01,  2.0400e+01, -1.6115e+01,  8.3153e+00, -2.6922e+00,\n",
       "         -6.3167e-01,  5.7056e+00,  1.0547e+01, -4.5698e+00, -1.3940e+00],\n",
       "        [-4.4255e-01,  2.4342e+00, -4.5546e+00,  6.7410e+00,  4.9116e+00,\n",
       "          1.1635e+00, -8.9738e-01,  2.8976e+00, -7.9379e+00,  1.0501e+01],\n",
       "        [-1.3175e+01,  5.7863e+00, -5.4585e+00,  1.8262e+01,  4.0557e+00,\n",
       "         -2.1196e+00,  2.1434e+00,  3.0608e+00, -5.3587e+00, -1.7424e+00],\n",
       "        [-8.2585e+00,  1.3105e+01, -1.2516e+01, -2.7649e+00, -3.2306e+00,\n",
       "          5.6594e+00,  5.0019e+00,  1.4912e+01, -5.4087e+00, -1.7195e-01],\n",
       "        [-1.6978e+01,  1.2643e+01, -6.4464e+00,  7.2320e+00,  6.2063e-01,\n",
       "          5.0587e+00,  3.0982e+00,  4.0492e+00, -1.2548e+01, -3.7374e+00],\n",
       "        [-1.3678e+01,  1.0433e+01, -1.2403e+01,  1.1943e+01,  3.7666e+00,\n",
       "         -7.7398e-02,  7.9157e-01, -1.5738e+00,  3.9422e+00, -1.3275e+01],\n",
       "        [-1.6255e+01,  2.5537e+00, -1.5235e+01,  3.8078e+00, -4.8538e+00,\n",
       "         -2.6851e+00, -1.3371e+00,  3.2992e+00, -1.8237e+00, -4.4236e+00],\n",
       "        [-1.1786e+01,  3.9141e+00, -1.3293e+01,  6.5523e+00,  5.3649e-01,\n",
       "          7.5270e-01, -1.0290e+01,  5.4497e+00, -7.4916e+00, -6.3188e+00],\n",
       "        [-6.3843e+00,  8.1601e+00, -1.3429e+00,  3.0095e+00, -3.0304e+00,\n",
       "          7.8651e+00,  9.3848e+00,  2.2225e-01, -3.5496e-01, -1.3870e+00],\n",
       "        [-8.9977e+00,  1.2987e+01, -1.6063e+01, -1.9977e+00,  1.6589e+00,\n",
       "          2.2040e+00,  9.4422e+00, -5.0765e+00, -4.0688e+00, -9.8695e+00],\n",
       "        [-2.4602e+00,  6.5326e+00, -1.0745e+01,  1.6762e+00,  2.2462e-01,\n",
       "          8.9195e+00,  2.0347e+01,  1.1890e+01, -3.7889e+00, -8.1628e+00],\n",
       "        [-1.1257e+01,  1.8316e+01, -8.6157e+00,  8.8387e+00,  3.9334e+00,\n",
       "          1.2721e+00,  8.6125e+00,  1.6031e+00,  1.9101e+00, -7.3294e+00],\n",
       "        [-1.1763e+01,  2.0117e-01, -1.0987e+01,  1.1408e+01,  1.3107e+01,\n",
       "          1.3661e+00,  1.0283e+01,  3.1874e+00, -1.0877e+01, -1.2682e+01],\n",
       "        [-1.8116e+01,  1.9070e+01, -4.5971e+00,  8.1289e+00, -4.1666e+00,\n",
       "         -4.1020e+00,  1.4071e+01,  8.2153e+00, -7.1723e+00, -1.8397e+00],\n",
       "        [-7.6785e+00,  1.0693e+01, -9.4296e+00,  6.7348e-01,  9.7697e-03,\n",
       "          2.1833e+00,  8.9868e-01,  4.6644e+00, -5.4001e+00, -4.0804e+00],\n",
       "        [-8.2411e+00,  1.4014e+01, -9.9162e+00,  4.1368e+00, -1.2489e+00,\n",
       "         -1.7885e+00,  5.7826e+00,  1.0215e+01, -6.0742e+00,  6.8381e-01],\n",
       "        [ 4.3305e+00,  5.1547e+00, -2.6500e+00, -1.5085e+00,  1.3039e+00,\n",
       "          4.2503e-02,  3.5832e+00,  7.6586e+00, -9.6075e+00,  5.9958e+00],\n",
       "        [-7.3353e+00,  1.0636e+01, -5.2485e+00,  1.0388e+01, -4.7196e+00,\n",
       "         -1.2840e+00,  9.8304e+00,  5.2718e+00, -3.5638e+00, -9.6445e+00],\n",
       "        [-1.1996e+01,  7.1735e+00, -7.6268e+00,  6.1405e-01,  7.9389e+00,\n",
       "         -5.0115e+00,  1.1160e+01,  2.3979e+00, -4.0143e-01, -5.2174e+00],\n",
       "        [-1.0701e+01,  1.8895e+01, -1.4028e+01, -7.3052e-01,  3.4027e+00,\n",
       "          3.6951e+00,  4.0010e+00,  8.7987e+00,  5.1846e+00, -1.0939e+01],\n",
       "        [-3.9224e+00,  1.2010e+01, -1.0291e+01, -3.0884e+00, -2.4623e+00,\n",
       "          4.8014e+00,  5.5132e+00,  9.5550e+00, -4.5361e+00, -6.6997e+00],\n",
       "        [-1.1824e+01,  1.0952e+01, -4.2978e+00, -3.0692e+00,  2.1415e+00,\n",
       "         -1.3465e+00,  1.4539e+01,  4.1047e+00, -1.6792e+01, -1.0915e+00],\n",
       "        [-1.2837e+01,  1.1963e+01, -7.3656e+00,  9.0643e+00, -4.9481e-01,\n",
       "         -2.8800e+00,  4.1374e+00,  1.1873e+01, -1.5765e+00, -2.9251e+00],\n",
       "        [-8.5262e+00,  6.1979e+00, -6.2810e+00,  1.2015e+01,  8.0411e+00,\n",
       "         -5.3550e+00,  1.0974e+01, -1.2436e+00,  1.4119e+00, -1.2354e+01],\n",
       "        [-9.9324e+00,  3.6437e+00, -2.2829e+01, -4.1041e-01, -2.4359e+00,\n",
       "          1.7716e+00,  1.0287e+01,  8.3794e+00,  2.0330e+00, -3.1185e+00],\n",
       "        [-1.0424e+01,  6.0311e+00, -3.5745e+00,  4.0393e+00, -2.8370e+00,\n",
       "          2.2836e+00,  1.0415e+01,  9.7496e+00,  2.7156e+00, -7.0303e+00],\n",
       "        [-1.0767e+01,  9.0950e+00, -1.4954e+01,  6.3003e+00, -3.7034e+00,\n",
       "         -1.5594e+00,  1.5025e+01,  1.4031e+00, -8.6223e+00, -7.5486e+00],\n",
       "        [-1.3449e+01,  8.4250e+00, -1.5401e+01,  7.4547e+00,  1.5462e+01,\n",
       "         -4.5579e+00,  1.0311e+01,  8.8205e+00, -4.1243e+00, -4.9182e+00],\n",
       "        [-1.8783e+01,  1.4395e+01, -6.0386e+00,  8.3058e+00,  1.0128e+01,\n",
       "         -9.0552e+00,  1.2533e+01, -5.4644e+00,  5.1977e-01, -7.9011e+00],\n",
       "        [-2.2391e+01,  1.7189e+01, -4.6193e+00,  8.3215e+00,  2.3300e+00,\n",
       "          1.1586e+00,  1.3259e+01,  1.0050e+01, -2.7436e+00, -7.1673e+00],\n",
       "        [-2.4018e+01,  1.8541e+01, -1.7742e+00,  1.1676e+01,  7.7307e+00,\n",
       "         -4.9042e+00,  2.6052e+00,  8.8791e+00, -2.9088e+00,  2.4139e+00],\n",
       "        [ 3.0002e+00, -7.2400e+00, -5.5909e+00,  2.3700e+00,  6.3043e+00,\n",
       "          3.9587e+00,  1.2066e+01,  5.7418e+00, -5.2651e+00,  1.1585e+01],\n",
       "        [-1.6748e+01,  1.1745e+01, -8.8655e+00,  6.6227e-01, -3.8095e+00,\n",
       "          9.3402e-01,  1.3687e+01,  9.1612e+00, -2.8712e+00, -3.1210e+00],\n",
       "        [-2.0159e+01,  1.2470e+01, -1.7615e+00,  1.7473e+01,  5.3097e+00,\n",
       "         -4.3321e+00, -2.0782e+00,  1.4560e+01,  1.1038e+00, -5.2160e+00],\n",
       "        [-1.0112e+01,  6.6109e+00, -1.4569e+01,  3.3567e-01, -4.2686e+00,\n",
       "          2.0244e+00,  4.2423e+00,  3.1073e+00, -7.0423e+00, -1.0260e+01],\n",
       "        [-1.7532e+01,  6.9507e+00, -4.4323e+00,  5.8246e+00, -7.3272e-01,\n",
       "         -7.9947e+00,  1.4482e+00,  8.5801e+00,  5.8341e+00, -3.9652e+00],\n",
       "        [-8.2619e+00,  9.6777e+00, -6.1682e+00,  4.6528e+00,  1.0990e+01,\n",
       "          2.2248e-01,  1.9920e+00,  4.3894e+00, -7.3976e+00,  1.6888e+00],\n",
       "        [-2.5233e+01,  1.4568e+01, -4.7765e+00,  1.9157e+00,  7.6640e+00,\n",
       "         -4.2588e+00,  1.7211e+00,  3.9702e+00, -3.5981e+00,  1.1376e-02],\n",
       "        [-1.1325e+01,  7.1483e+00, -5.8075e+00,  4.6166e+00, -1.8360e+00,\n",
       "          9.2681e+00,  1.3176e+01,  1.4925e+01, -1.3251e+00,  1.7673e+00],\n",
       "        [-1.8672e+01,  8.7088e+00, -5.6725e+00,  7.2494e+00,  1.7211e+01,\n",
       "         -8.7184e+00,  1.5441e+01, -4.3157e+00,  1.0034e+00, -4.2046e+00],\n",
       "        [-2.3156e+01,  1.2286e+01, -3.6219e+00,  1.0069e+01,  2.6143e+00,\n",
       "         -5.2259e+00,  2.8066e+00,  2.5302e+00, -9.0842e-01, -3.5107e+00],\n",
       "        [-8.0210e+00,  1.7921e+01, -3.5516e+00,  1.9999e+01, -7.5718e-01,\n",
       "         -7.3000e+00, -5.4299e+00,  6.8674e-01,  1.5194e+00,  3.8668e-01],\n",
       "        [-1.4024e+01,  4.7189e+00, -1.6532e+01,  8.4491e+00,  1.2253e+01,\n",
       "          8.4587e+00,  7.3956e+00,  1.3080e+01, -5.1032e+00, -6.4915e+00],\n",
       "        [-3.1035e+00, -1.0159e+00, -3.6767e+00,  1.6622e+01,  2.3357e+00,\n",
       "         -1.0137e+01, -5.4642e+00, -9.6096e+00, -5.6851e+00, -3.1776e+00],\n",
       "        [-8.3400e+00,  3.5979e+00, -1.2175e+01,  1.3631e+01,  1.5511e+00,\n",
       "         -2.0540e+00, -2.0580e+00,  7.1715e+00,  3.3660e+00, -5.0864e+00],\n",
       "        [-2.0534e+01,  1.4497e+01, -1.4497e+01,  3.2438e+00,  1.0719e+01,\n",
       "          4.3757e+00,  1.3906e+01,  1.4608e+01, -6.3012e+00, -5.9737e+00],\n",
       "        [-1.6918e+01,  2.2737e+01,  4.7645e-01,  7.8624e+00,  5.3758e+00,\n",
       "         -9.9566e+00,  1.1023e+01,  5.5388e+00,  2.3182e-02, -6.3823e-01],\n",
       "        [-1.5948e+01,  1.5802e+01, -5.4019e+00,  1.9059e+00,  3.6625e+00,\n",
       "         -6.6888e+00,  9.6458e+00,  8.1940e+00, -1.3614e+00, -4.0471e+00],\n",
       "        [-1.0977e+01,  8.0267e+00, -1.0120e+01,  1.2974e+01,  2.7104e+00,\n",
       "          3.3045e-01,  4.3813e+00,  3.4598e+00, -2.6014e+00, -3.2690e+00],\n",
       "        [-2.2713e+01,  1.0531e+01, -2.9837e+00,  9.3180e+00,  1.0895e-01,\n",
       "         -9.7516e+00,  4.9788e+00,  2.5545e-02, -4.3058e+00, -7.5926e+00],\n",
       "        [-1.4721e+01,  8.6682e-01, -1.9079e+01,  3.5766e+00,  1.2616e+01,\n",
       "          1.0220e+01,  3.1640e+00,  4.0738e+00, -3.1555e+00,  2.7307e+00],\n",
       "        [-9.8406e+00,  8.0192e+00, -9.1270e+00,  1.1903e+01, -1.6956e+00,\n",
       "         -8.1281e+00, -5.2730e+00,  7.0105e+00, -8.6374e+00, -8.4322e+00],\n",
       "        [-1.8154e+01,  1.5740e+01, -5.0803e+00,  1.0109e+00, -1.3153e+00,\n",
       "         -3.6777e+00,  9.8877e+00, -2.2490e+00, -7.5891e+00,  3.8764e+00],\n",
       "        [-1.9194e+01,  8.3465e+00, -7.0782e+00,  5.5493e+00,  9.3108e+00,\n",
       "         -9.4835e-02,  1.4272e+01,  1.9065e+00, -1.2892e+00, -2.3052e+00],\n",
       "        [-1.6416e+01,  6.9311e+00, -1.4691e+01,  7.1274e+00,  6.9846e+00,\n",
       "         -4.2807e-01, -9.3527e-02,  6.0680e-01,  7.8231e-01, -1.0279e+01],\n",
       "        [-2.9151e+00,  2.2270e+01, -8.0027e+00, -5.3670e-02,  4.4154e-01,\n",
       "          7.9728e+00,  1.6929e+01,  1.6814e+01,  3.7055e+00, -3.8459e+00],\n",
       "        [-1.8232e+01,  2.0684e+01, -9.9816e+00,  1.5613e+01,  3.8001e+00,\n",
       "         -2.6334e+00, -6.4389e-01,  1.4481e+01, -5.1775e+00, -2.7609e+00],\n",
       "        [-1.2260e+01,  9.0173e+00, -1.4673e+01,  1.1656e+01,  1.1000e+01,\n",
       "          1.1509e+00,  9.2473e+00,  9.2781e+00,  1.5281e+00, -6.8761e+00],\n",
       "        [-2.4634e+01,  1.0154e+01, -1.6973e+01,  1.1633e+01, -2.5943e+00,\n",
       "         -3.6851e+00,  9.6576e+00,  8.8595e+00, -4.0628e+00, -1.3692e+00],\n",
       "        [-4.5009e+00,  4.2827e+00, -1.7163e+01,  2.0605e+00,  6.5455e+00,\n",
       "          1.3358e+01, -5.3516e+00,  5.9247e+00, -2.6428e+00, -3.3290e+00],\n",
       "        [-9.9304e+00,  4.0459e+00, -1.2167e+01,  3.1004e+00, -7.1166e+00,\n",
       "          2.1008e+00,  7.1396e+00,  1.1294e+01, -3.7092e+00, -1.1559e+01],\n",
       "        [-1.1290e+01,  1.2363e+00, -8.6053e+00, -4.7440e-01,  1.7323e-01,\n",
       "          7.0769e+00,  1.0777e+01,  1.8454e+01, -9.7011e+00, -7.7991e+00],\n",
       "        [-2.1957e+01,  7.5390e+00, -1.5860e+01,  8.9408e+00,  1.6592e+00,\n",
       "         -1.7600e+00, -4.4946e+00,  8.2066e+00, -2.3891e+00,  6.6450e+00]])"
      ]
     },
     "execution_count": 86,
     "metadata": {},
     "output_type": "execute_result"
    }
   ],
   "source": [
    "output "
   ]
  },
  {
   "cell_type": "code",
   "execution_count": 87,
   "metadata": {},
   "outputs": [
    {
     "data": {
      "text/plain": [
       "tensor([1.3496e+04, 7.2380e+08, 3.7373e+04, 8.5368e+07, 3.4848e+06, 3.1111e+05,\n",
       "        1.8772e+05, 8.5507e+01, 9.8746e+02, 1.8032e+04, 4.4951e+05, 6.8649e+08,\n",
       "        9.0061e+07, 6.1168e+05, 1.9280e+08, 4.4152e+04, 1.2475e+06, 2.8107e+03,\n",
       "        9.2877e+04, 7.4350e+04, 1.6071e+08, 1.7891e+05, 2.1187e+06, 3.0883e+05,\n",
       "        2.2711e+05, 3.3760e+04, 5.0997e+04, 3.3608e+06, 5.2308e+06, 2.0913e+06,\n",
       "        2.9781e+07, 1.1293e+08, 2.8230e+05, 1.0150e+06, 4.1117e+07, 8.4408e+02,\n",
       "        7.0537e+03, 7.5451e+04, 2.1239e+06, 3.5739e+06, 3.4903e+07, 2.4023e+05,\n",
       "        5.4557e+08, 6.9987e+05, 1.6548e+07, 8.3319e+05, 5.3275e+06, 7.4947e+09,\n",
       "        7.3105e+06, 4.3432e+05, 4.8744e+04, 3.2903e+05, 1.5191e+05, 6.8717e+06,\n",
       "        1.5934e+06, 3.3547e+03, 4.7397e+09, 9.6920e+08, 2.0456e+05, 1.6114e+05,\n",
       "        6.3413e+05, 8.1692e+04, 1.0349e+08, 1.3957e+04])"
      ]
     },
     "execution_count": 87,
     "metadata": {},
     "output_type": "execute_result"
    }
   ],
   "source": [
    "x =torch.sum(torch.exp(output), dim = 1)\n",
    "x"
   ]
  },
  {
   "cell_type": "code",
   "execution_count": 88,
   "metadata": {},
   "outputs": [
    {
     "data": {
      "text/plain": [
       "(torch.Size([64, 1]), torch.Size([64]))"
      ]
     },
     "execution_count": 88,
     "metadata": {},
     "output_type": "execute_result"
    }
   ],
   "source": [
    "# see the different and how it been flattened\n",
    "v = x.view(-1,1)\n",
    "v.shape, x .shape "
   ]
  },
  {
   "cell_type": "code",
   "execution_count": 89,
   "metadata": {},
   "outputs": [
    {
     "data": {
      "text/plain": [
       "tensor([[3.8691e-04, 2.2741e+01, 7.8494e-09, 4.5990e+03, 4.0638e+00, 3.6259e-01,\n",
       "         3.8424e+01, 8.7374e+03, 9.4196e+01, 3.8069e-03],\n",
       "        [4.7453e-11, 7.2376e+08, 1.0030e-07, 4.0857e+03, 6.7733e-02, 5.3170e-01,\n",
       "         3.0053e+02, 3.8063e+04, 1.0360e-02, 2.4809e-01],\n",
       "        [6.4240e-01, 1.1407e+01, 1.0519e-02, 8.4642e+02, 1.3585e+02, 3.2011e+00,\n",
       "         4.0764e-01, 1.8131e+01, 3.5694e-04, 3.6357e+04],\n",
       "        [1.8968e-06, 3.2580e+02, 4.2599e-03, 8.5368e+07, 5.7726e+01, 1.2008e-01,\n",
       "         8.5281e+00, 2.1345e+01, 4.7068e-03, 1.7510e-01],\n",
       "        [2.5905e-04, 4.9153e+05, 3.6663e-06, 6.2980e-02, 3.9535e-02, 2.8698e+02,\n",
       "         1.4870e+02, 2.9929e+06, 4.4775e-03, 8.4202e-01],\n",
       "        [4.2338e-08, 3.0949e+05, 1.5863e-03, 1.3829e+03, 1.8601e+00, 1.5739e+02,\n",
       "         2.2158e+01, 5.7353e+01, 3.5514e-06, 2.3816e-02],\n",
       "        [1.1473e-06, 3.3945e+04, 4.1057e-06, 1.5367e+05, 4.3231e+01, 9.2552e-01,\n",
       "         2.2069e+00, 2.0725e-01, 5.1533e+01, 1.7174e-06],\n",
       "        [8.7212e-08, 1.2854e+01, 2.4180e-07, 4.5050e+01, 7.7990e-03, 6.8216e-02,\n",
       "         2.6261e-01, 2.7091e+01, 1.6142e-01, 1.1991e-02],\n",
       "        [7.6131e-06, 5.0102e+01, 1.6860e-06, 7.0084e+02, 1.7100e+00, 2.1227e+00,\n",
       "         3.3979e-05, 2.3268e+02, 5.5778e-04, 1.8021e-03],\n",
       "        [1.6879e-03, 3.4985e+03, 2.6109e-01, 2.0277e+01, 4.8298e-02, 2.6047e+03,\n",
       "         1.1906e+04, 1.2489e+00, 7.0120e-01, 2.4982e-01],\n",
       "        [1.2369e-04, 4.3688e+05, 1.0565e-07, 1.3564e-01, 5.2537e+00, 9.0616e+00,\n",
       "         1.2610e+04, 6.2417e-03, 1.7097e-02, 5.1727e-05],\n",
       "        [8.5420e-02, 6.8715e+02, 2.1549e-05, 5.3451e+00, 1.2518e+00, 7.4760e+03,\n",
       "         6.8634e+08, 1.4579e+05, 2.2621e-02, 2.8507e-04],\n",
       "        [1.2917e-05, 9.0048e+07, 1.8123e-04, 6.8958e+03, 5.1079e+01, 3.5685e+00,\n",
       "         5.4998e+03, 4.9686e+00, 6.7538e+00, 6.5598e-04],\n",
       "        [7.7910e-06, 1.2228e+00, 1.6929e-05, 9.0003e+04, 4.9243e+05, 3.9200e+00,\n",
       "         2.9220e+04, 2.4226e+01, 1.8894e-05, 3.1075e-06],\n",
       "        [1.3556e-08, 1.9150e+08, 1.0081e-02, 3.3911e+03, 1.5506e-02, 1.6540e-02,\n",
       "         1.2914e+06, 3.6971e+03, 7.6752e-04, 1.5886e-01],\n",
       "        [4.6269e-04, 4.4031e+04, 8.0312e-05, 1.9610e+00, 1.0098e+00, 8.8752e+00,\n",
       "         2.4563e+00, 1.0610e+02, 4.5161e-03, 1.6900e-02],\n",
       "        [2.6359e-04, 1.2198e+06, 4.9367e-05, 6.2600e+01, 2.8683e-01, 1.6721e-01,\n",
       "         3.2459e+02, 2.7313e+04, 2.3014e-03, 1.9814e+00],\n",
       "        [7.5984e+01, 1.7325e+02, 7.0648e-02, 2.2124e-01, 3.6835e+00, 1.0434e+00,\n",
       "         3.5988e+01, 2.1187e+03, 6.7225e-05, 4.0175e+02],\n",
       "        [6.5208e-04, 4.1624e+04, 5.2552e-03, 3.2467e+04, 8.9189e-03, 2.7692e-01,\n",
       "         1.8591e+04, 1.9476e+02, 2.8332e-02, 6.4784e-05],\n",
       "        [6.1660e-06, 1.3044e+03, 4.8722e-04, 1.8479e+00, 2.8043e+03, 6.6612e-03,\n",
       "         7.0228e+04, 1.1000e+01, 6.6936e-01, 5.4213e-03],\n",
       "        [2.2516e-05, 1.6070e+08, 8.0887e-07, 4.8166e-01, 3.0046e+01, 4.0250e+01,\n",
       "         5.4653e+01, 6.6255e+03, 1.7850e+02, 1.7760e-05],\n",
       "        [1.9793e-02, 1.6443e+05, 3.3941e-05, 4.5573e-02, 8.5235e-02, 1.2168e+02,\n",
       "         2.4794e+02, 1.4115e+04, 1.0715e-02, 1.2313e-03],\n",
       "        [7.3231e-06, 5.7048e+04, 1.3598e-02, 4.6456e-02, 8.5120e+00, 2.6015e-01,\n",
       "         2.0616e+06, 6.0625e+01, 5.0968e-08, 3.3573e-01],\n",
       "        [2.6610e-06, 1.5682e+05, 6.3263e-04, 8.6410e+03, 6.0969e-01, 5.6134e-02,\n",
       "         6.2639e+01, 1.4331e+05, 2.0669e-01, 5.3659e-02],\n",
       "        [1.9821e-04, 4.9170e+02, 1.8715e-03, 1.6516e+05, 3.1061e+03, 4.7243e-03,\n",
       "         5.8350e+04, 2.8834e-01, 4.1039e+00, 4.3120e-06],\n",
       "        [4.8575e-05, 3.8234e+01, 1.2174e-10, 6.6338e-01, 8.7518e-02, 5.8801e+00,\n",
       "         2.9351e+04, 4.3566e+03, 7.6369e+00, 4.4222e-02],\n",
       "        [2.9724e-05, 4.1619e+02, 2.8029e-02, 5.6784e+01, 5.8600e-02, 9.8121e+00,\n",
       "         3.3352e+04, 1.7147e+04, 1.5113e+01, 8.8464e-04],\n",
       "        [2.1088e-05, 8.9103e+03, 3.2029e-07, 5.4473e+02, 2.4640e-02, 2.1027e-01,\n",
       "         3.3514e+06, 4.0677e+00, 1.8004e-04, 5.2684e-04],\n",
       "        [1.4421e-06, 4.5598e+03, 2.0482e-07, 1.7280e+03, 5.1876e+06, 1.0484e-02,\n",
       "         3.0070e+04, 6.7718e+03, 1.6176e-02, 7.3123e-03],\n",
       "        [6.9610e-09, 1.7850e+06, 2.3848e-03, 4.0473e+03, 2.5042e+04, 1.1678e-04,\n",
       "         2.7721e+05, 4.2350e-03, 1.6816e+00, 3.7035e-04],\n",
       "        [1.8869e-10, 2.9180e+07, 9.8596e-03, 4.1114e+03, 1.0278e+01, 3.1855e+00,\n",
       "         5.7312e+05, 2.3159e+04, 6.4340e-02, 7.7140e-04],\n",
       "        [3.7090e-11, 1.1280e+08, 1.6961e-01, 1.1771e+05, 2.2772e+03, 7.4154e-03,\n",
       "         1.3534e+01, 7.1801e+03, 5.4541e-02, 1.1177e+01],\n",
       "        [2.0089e+01, 7.1728e-04, 3.7318e-03, 1.0698e+01, 5.4694e+02, 5.2388e+01,\n",
       "         1.7390e+05, 3.1162e+02, 5.1688e-03, 1.0747e+05],\n",
       "        [5.3250e-08, 1.2607e+05, 1.4118e-04, 1.9392e+00, 2.2159e-02, 2.5447e+00,\n",
       "         8.7937e+05, 9.5209e+03, 5.6630e-02, 4.4113e-02],\n",
       "        [1.7585e-09, 2.6050e+05, 1.7179e-01, 3.8752e+07, 2.0229e+02, 1.3140e-02,\n",
       "         1.2515e-01, 2.1048e+06, 3.0157e+00, 5.4291e-03],\n",
       "        [4.0578e-05, 7.4317e+02, 4.7077e-07, 1.3989e+00, 1.4001e-02, 7.5713e+00,\n",
       "         6.9568e+01, 2.2360e+01, 8.7411e-04, 3.5002e-05],\n",
       "        [2.4319e-08, 1.0439e+03, 1.1887e-02, 3.3851e+02, 4.8060e-01, 3.3726e-04,\n",
       "         4.2554e+00, 5.3247e+03, 3.4175e+02, 1.8963e-02],\n",
       "        [2.5816e-04, 1.5957e+04, 2.0950e-03, 1.0488e+02, 5.9295e+04, 1.2492e+00,\n",
       "         7.3299e+00, 8.0593e+01, 6.1272e-04, 5.4128e+00],\n",
       "        [1.1006e-11, 2.1217e+06, 8.4251e-03, 6.7914e+00, 2.1304e+03, 1.4140e-02,\n",
       "         5.5908e+00, 5.2994e+01, 2.7375e-02, 1.0114e+00],\n",
       "        [1.2066e-05, 1.2720e+03, 3.0051e-03, 1.0115e+02, 1.5945e-01, 1.0594e+04,\n",
       "         5.2758e+05, 3.0343e+06, 2.6576e-01, 5.8552e+00],\n",
       "        [7.7768e-09, 6.0560e+03, 3.4394e-03, 1.4073e+03, 2.9816e+07, 1.6354e-04,\n",
       "         5.0797e+06, 1.3357e-02, 2.7274e+00, 1.4927e-02],\n",
       "        [8.7814e-11, 2.1659e+05, 2.6732e-02, 2.3601e+04, 1.3657e+01, 5.3756e-03,\n",
       "         1.6553e+01, 1.2556e+01, 4.0316e-01, 2.9876e-02],\n",
       "        [3.2849e-04, 6.0683e+07, 2.8678e-02, 4.8488e+08, 4.6899e-01, 6.7556e-04,\n",
       "         4.3836e-03, 1.9872e+00, 4.5695e+00, 1.4721e+00],\n",
       "        [8.1156e-07, 1.1205e+02, 6.6086e-08, 4.6710e+03, 2.0965e+05, 4.7160e+03,\n",
       "         1.6289e+03, 4.7909e+05, 6.0770e-03, 1.5162e-03],\n",
       "        [4.4893e-02, 3.6209e-01, 2.5307e-02, 1.6548e+07, 1.0337e+01, 3.9594e-05,\n",
       "         4.2357e-03, 6.7081e-05, 3.3963e-03, 4.1686e-02],\n",
       "        [2.3876e-04, 3.6521e+01, 5.1582e-06, 8.3182e+05, 4.7166e+00, 1.2822e-01,\n",
       "         1.2771e-01, 1.3018e+03, 2.8962e+01, 6.1803e-03],\n",
       "        [1.2081e-09, 1.9770e+06, 5.0607e-07, 2.5631e+01, 4.5225e+04, 7.9494e+01,\n",
       "         1.0952e+06, 2.2100e+06, 1.8342e-03, 2.5449e-03],\n",
       "        [4.4937e-08, 7.4947e+09, 1.6104e+00, 2.5978e+03, 2.1611e+02, 4.7413e-05,\n",
       "         6.1282e+04, 2.5436e+02, 1.0235e+00, 5.2823e-01],\n",
       "        [1.1850e-07, 7.2914e+06, 4.5080e-03, 6.7253e+00, 3.8960e+01, 1.2448e-03,\n",
       "         1.5456e+04, 3.6190e+03, 2.5630e-01, 1.7472e-02],\n",
       "        [1.7088e-05, 3.0617e+03, 4.0248e-05, 4.3113e+05, 1.5035e+01, 1.3916e+00,\n",
       "         7.9941e+01, 3.1810e+01, 7.4169e-02, 3.8046e-02],\n",
       "        [1.3670e-10, 3.7460e+04, 5.0607e-02, 1.1137e+04, 1.1151e+00, 5.8202e-05,\n",
       "         1.4531e+02, 1.0259e+00, 1.3489e-02, 5.0416e-04],\n",
       "        [4.0434e-07, 2.3793e+00, 5.1788e-09, 3.5751e+01, 3.0146e+05, 2.7439e+04,\n",
       "         2.3665e+01, 5.8779e+01, 4.2619e-02, 1.5344e+01],\n",
       "        [5.3244e-05, 3.0389e+03, 1.0869e-04, 1.4777e+05, 1.8350e-01, 2.9512e-04,\n",
       "         5.1279e-03, 1.1082e+03, 1.7734e-04, 2.1774e-04],\n",
       "        [1.3055e-08, 6.8519e+06, 6.2180e-03, 2.7480e+00, 2.6839e-01, 2.5280e-02,\n",
       "         1.9686e+04, 1.0550e-01, 5.0595e-04, 4.8248e+01],\n",
       "        [4.6162e-09, 4.2154e+03, 8.4325e-04, 2.5706e+02, 1.1057e+04, 9.0952e-01,\n",
       "         1.5778e+06, 6.7293e+00, 2.7550e-01, 9.9741e-02],\n",
       "        [7.4249e-08, 1.0237e+03, 4.1663e-07, 1.2456e+03, 1.0798e+03, 6.5176e-01,\n",
       "         9.1071e-01, 1.8346e+00, 2.1865e+00, 3.4352e-05],\n",
       "        [5.4197e-02, 4.6972e+09, 3.3455e-04, 9.4774e-01, 1.5551e+00, 2.9011e+03,\n",
       "         2.2510e+07, 2.0057e+07, 4.0672e+01, 2.1367e-02],\n",
       "        [1.2072e-08, 9.6122e+08, 4.6244e-05, 6.0344e+06, 4.4704e+01, 7.1834e-02,\n",
       "         5.2525e-01, 1.9450e+06, 5.6419e-03, 6.3232e-02],\n",
       "        [4.7388e-06, 8.2445e+03, 4.2413e-07, 1.1533e+05, 5.9903e+04, 3.1611e+00,\n",
       "         1.0377e+04, 1.0701e+04, 4.6096e+00, 1.0322e-03],\n",
       "        [2.0033e-11, 2.5682e+04, 4.2530e-08, 1.1278e+05, 7.4700e-02, 2.5094e-02,\n",
       "         1.5639e+04, 7.0409e+03, 1.7201e-02, 2.5431e-01],\n",
       "        [1.1099e-02, 7.2439e+01, 3.5173e-08, 7.8501e+00, 6.9609e+02, 6.3298e+05,\n",
       "         4.7407e-03, 3.7415e+02, 7.1163e-02, 3.5831e-02],\n",
       "        [4.8672e-05, 5.7161e+01, 5.2002e-06, 2.2207e+01, 8.1153e-04, 8.1726e+00,\n",
       "         1.2610e+03, 8.0344e+04, 2.4498e-02, 9.5537e-06],\n",
       "        [1.2499e-05, 3.4430e+00, 1.8314e-04, 6.2226e-01, 1.1891e+00, 1.1843e+03,\n",
       "         4.7916e+04, 1.0344e+08, 6.1215e-05, 4.1010e-04],\n",
       "        [2.9114e-10, 1.8800e+03, 1.2947e-07, 7.6371e+03, 5.2552e+00, 1.7204e-01,\n",
       "         1.1169e-02, 3.6651e+03, 9.1716e-02, 7.6891e+02]])"
      ]
     },
     "execution_count": 89,
     "metadata": {},
     "output_type": "execute_result"
    }
   ],
   "source": [
    "y = torch.exp(output)\n",
    "y"
   ]
  },
  {
   "cell_type": "code",
   "execution_count": 90,
   "metadata": {},
   "outputs": [
    {
     "name": "stdout",
     "output_type": "stream",
     "text": [
      "torch.Size([64, 10])\n",
      "tensor([1.0000, 1.0000, 1.0000, 1.0000, 1.0000, 1.0000, 1.0000, 1.0000, 1.0000,\n",
      "        1.0000, 1.0000, 1.0000, 1.0000, 1.0000, 1.0000, 1.0000, 1.0000, 1.0000,\n",
      "        1.0000, 1.0000, 1.0000, 1.0000, 1.0000, 1.0000, 1.0000, 1.0000, 1.0000,\n",
      "        1.0000, 1.0000, 1.0000, 1.0000, 1.0000, 1.0000, 1.0000, 1.0000, 1.0000,\n",
      "        1.0000, 1.0000, 1.0000, 1.0000, 1.0000, 1.0000, 1.0000, 1.0000, 1.0000,\n",
      "        1.0000, 1.0000, 1.0000, 1.0000, 1.0000, 1.0000, 1.0000, 1.0000, 1.0000,\n",
      "        1.0000, 1.0000, 1.0000, 1.0000, 1.0000, 1.0000, 1.0000, 1.0000, 1.0000,\n",
      "        1.0000])\n"
     ]
    }
   ],
   "source": [
    "# taking the softmax value \n",
    "\n",
    "def softmax(x):\n",
    "    return torch.exp(x)/torch.sum(torch.exp(x), dim = 1).view(-1, 1)\n",
    "\n",
    "probabilities = softmax(output)\n",
    "\n",
    "print(probabilities.shape)\n",
    "print(probabilities.sum(dim = 1))"
   ]
  },
  {
   "cell_type": "markdown",
   "metadata": {},
   "source": [
    "## Building a Network"
   ]
  },
  {
   "cell_type": "code",
   "execution_count": 91,
   "metadata": {},
   "outputs": [],
   "source": [
    "class Network(nn.Module):\n",
    "    def __init__(self):\n",
    "        super().__init__()\n",
    "        \n",
    "        # Inputs to hidden layer linear transformation\n",
    "        self.hidden = nn.Linear(784, 256)\n",
    "        # Output layer, 10 units - one for each digit\n",
    "        self.output = nn.Linear(256, 10)\n",
    "        \n",
    "        # Define sigmoid activation and softmax output \n",
    "        self.sigmoid = nn.Sigmoid()\n",
    "        self.softmax = nn.Softmax(dim=1)\n",
    "        \n",
    "    def forward(self, x):\n",
    "        # Pass the input tensor through each of our operations\n",
    "        x = self.hidden(x)\n",
    "        x = self.sigmoid(x)\n",
    "        x = self.output(x)\n",
    "        x = self.softmax(x)\n",
    "        \n",
    "        return x"
   ]
  },
  {
   "cell_type": "code",
   "execution_count": 92,
   "metadata": {},
   "outputs": [
    {
     "data": {
      "text/plain": [
       "Network(\n",
       "  (hidden): Linear(in_features=784, out_features=256, bias=True)\n",
       "  (output): Linear(in_features=256, out_features=10, bias=True)\n",
       "  (sigmoid): Sigmoid()\n",
       "  (softmax): Softmax(dim=1)\n",
       ")"
      ]
     },
     "execution_count": 92,
     "metadata": {},
     "output_type": "execute_result"
    }
   ],
   "source": [
    "model = Network()\n",
    "model"
   ]
  },
  {
   "cell_type": "code",
   "execution_count": 93,
   "metadata": {},
   "outputs": [],
   "source": [
    "# Buiding a more succint and concise network with torch.nn.functional as F\n",
    "\n",
    "class Network2(nn.Module):\n",
    "    def __init__(self):\n",
    "        super().__init__()\n",
    "        # Inputs to hidden layer linear transformation\n",
    "        self.hidden = nn.Linear(784, 256)\n",
    "        # Output layer, 10 units - one for each digit\n",
    "        self.output = nn.Linear(256, 10)\n",
    "        \n",
    "    def forward(self, x):\n",
    "        # Hidden layer with sigmoid activation\n",
    "        x = F.sigmoid(self.hidden(x))\n",
    "        # Output layer with softmax activation\n",
    "        x = F.softmax(self.output(x), dim=1)\n",
    "        \n",
    "        return x"
   ]
  },
  {
   "cell_type": "code",
   "execution_count": 94,
   "metadata": {},
   "outputs": [
    {
     "data": {
      "text/plain": [
       "Network2(\n",
       "  (hidden): Linear(in_features=784, out_features=256, bias=True)\n",
       "  (output): Linear(in_features=256, out_features=10, bias=True)\n",
       ")"
      ]
     },
     "execution_count": 94,
     "metadata": {},
     "output_type": "execute_result"
    }
   ],
   "source": [
    "model2 = Network2()\n",
    "model2"
   ]
  },
  {
   "cell_type": "markdown",
   "metadata": {},
   "source": [
    "## Building a network with Relu activation functions "
   ]
  },
  {
   "cell_type": "code",
   "execution_count": 95,
   "metadata": {},
   "outputs": [
    {
     "data": {
      "text/plain": [
       "ReluNetwork(\n",
       "  (fc1): Linear(in_features=784, out_features=128, bias=True)\n",
       "  (fc2): Linear(in_features=128, out_features=64, bias=True)\n",
       "  (fc3): Linear(in_features=64, out_features=10, bias=True)\n",
       ")"
      ]
     },
     "execution_count": 95,
     "metadata": {},
     "output_type": "execute_result"
    }
   ],
   "source": [
    "\n",
    "class ReluNetwork(nn.Module):\n",
    "    def __init__(self):\n",
    "        super().__init__()\n",
    "        # Defining the layers, 128, 64, 10 units each\n",
    "        self.fc1 = nn.Linear(784, 128)\n",
    "        self.fc2 = nn.Linear(128, 64)\n",
    "        # Output layer, 10 units - one for each digit\n",
    "        self.fc3 = nn.Linear(64, 10)\n",
    "        \n",
    "    def forward(self, x):\n",
    "        ''' Forward pass through the network, returns the output logits '''\n",
    "        \n",
    "        x = self.fc1(x)\n",
    "        x = F.relu(x)\n",
    "        x = self.fc2(x)\n",
    "        x = F.relu(x)\n",
    "        x = self.fc3(x)\n",
    "        x = F.softmax(x, dim=1)\n",
    "        \n",
    "        return x\n",
    "\n",
    "model_relu = ReluNetwork()\n",
    "model_relu"
   ]
  },
  {
   "cell_type": "code",
   "execution_count": 96,
   "metadata": {},
   "outputs": [
    {
     "data": {
      "text/plain": [
       "tensor([0., 0., 0., 0., 0., 0., 0., 0., 0., 0., 0., 0., 0., 0., 0., 0., 0., 0., 0., 0., 0., 0., 0., 0.,\n",
       "        0., 0., 0., 0., 0., 0., 0., 0., 0., 0., 0., 0., 0., 0., 0., 0., 0., 0., 0., 0., 0., 0., 0., 0.,\n",
       "        0., 0., 0., 0., 0., 0., 0., 0., 0., 0., 0., 0., 0., 0., 0., 0., 0., 0., 0., 0., 0., 0., 0., 0.,\n",
       "        0., 0., 0., 0., 0., 0., 0., 0., 0., 0., 0., 0., 0., 0., 0., 0., 0., 0., 0., 0., 0., 0., 0., 0.,\n",
       "        0., 0., 0., 0., 0., 0., 0., 0., 0., 0., 0., 0., 0., 0., 0., 0., 0., 0., 0., 0., 0., 0., 0., 0.,\n",
       "        0., 0., 0., 0., 0., 0., 0., 0.])"
      ]
     },
     "execution_count": 96,
     "metadata": {},
     "output_type": "execute_result"
    }
   ],
   "source": [
    "# Set biases to all zeros\n",
    "model_relu.fc1.bias.data.fill_(0)"
   ]
  },
  {
   "cell_type": "code",
   "execution_count": 97,
   "metadata": {},
   "outputs": [
    {
     "data": {
      "text/plain": [
       "tensor([[-8.3591e-03, -1.9129e-03,  1.1098e-03,  ..., -9.3227e-03,\n",
       "         -1.4592e-02,  5.8278e-03],\n",
       "        [ 4.8012e-03,  5.1196e-03, -5.4163e-03,  ...,  8.0728e-04,\n",
       "          2.0628e-03, -3.2473e-04],\n",
       "        [ 1.4600e-03, -9.8281e-03, -6.2956e-03,  ...,  9.9551e-03,\n",
       "          8.5933e-04, -2.0368e-02],\n",
       "        ...,\n",
       "        [ 6.2487e-03, -4.7894e-03, -1.2560e-03,  ...,  1.5042e-02,\n",
       "          1.5385e-02,  1.3606e-02],\n",
       "        [-7.5860e-05, -6.5732e-03,  1.6238e-02,  ..., -1.4689e-02,\n",
       "          9.2132e-03,  2.1241e-02],\n",
       "        [-1.5640e-04,  1.1030e-02,  1.9897e-02,  ...,  9.8978e-03,\n",
       "         -5.7485e-04, -1.4179e-03]])"
      ]
     },
     "execution_count": 97,
     "metadata": {},
     "output_type": "execute_result"
    }
   ],
   "source": [
    "# sample from random normal with standard dev = 0.01\n",
    "model_relu.fc1.weight.data.normal_(std=0.01)"
   ]
  },
  {
   "cell_type": "markdown",
   "metadata": {},
   "source": [
    "### Let see how the network respond when we pass an image"
   ]
  },
  {
   "cell_type": "code",
   "execution_count": 98,
   "metadata": {},
   "outputs": [
    {
     "name": "stderr",
     "output_type": "stream",
     "text": [
      "'wget' is not recognized as an internal or external command,\n",
      "operable program or batch file.\n"
     ]
    }
   ],
   "source": [
    "!wget https://raw.githubusercontent.com/udacity/deep-learning-v2-pytorch/3bd7dea850e936d8cb44adda8200e4e2b5d627e3/intro-to-pytorch/helper.py\n"
   ]
  },
  {
   "cell_type": "code",
   "execution_count": 108,
   "metadata": {},
   "outputs": [
    {
     "data": {
      "image/png": "[encoded data removed]",
      "text/plain": [
       "<Figure size 432x648 with 2 Axes>"
      ]
     },
     "metadata": {
      "needs_background": "light"
     },
     "output_type": "display_data"
    }
   ],
   "source": [
    "# Grab some data \n",
    "dataiter = iter(trainloader)\n",
    "images, labels = dataiter.next()\n",
    "\n",
    "# Resize images into a 1D vector, new shape is (batch size, color channels, image pixels) \n",
    "images.resize_(64, 1, 784)\n",
    "# or images.resize_(images.shape[0], 1, 784) to automatically get batch size\n",
    "\n",
    "# Forward pass through the network\n",
    "img_idx = 0\n",
    "ps = model_relu.forward(images[img_idx,:])\n",
    "\n",
    "img = images[img_idx]\n",
    "help.view_classify(img.view(1, 28, 28), ps)"
   ]
  },
  {
   "cell_type": "markdown",
   "metadata": {},
   "source": [
    "### Using Sequential Network"
   ]
  },
  {
   "cell_type": "code",
   "execution_count": 111,
   "metadata": {},
   "outputs": [
    {
     "name": "stdout",
     "output_type": "stream",
     "text": [
      "Sequential(\n",
      "  (0): Linear(in_features=784, out_features=128, bias=True)\n",
      "  (1): ReLU()\n",
      "  (2): Linear(in_features=128, out_features=64, bias=True)\n",
      "  (3): ReLU()\n",
      "  (4): Linear(in_features=64, out_features=10, bias=True)\n",
      "  (5): Softmax(dim=1)\n",
      ")\n"
     ]
    },
    {
     "data": {
      "image/png": "[encoded data removed]",
      "text/plain": [
       "<Figure size 432x648 with 2 Axes>"
      ]
     },
     "metadata": {
      "needs_background": "light"
     },
     "output_type": "display_data"
    }
   ],
   "source": [
    "# Hyperparameters for our network\n",
    "input_size = 784\n",
    "hidden_sizes = [128, 64]\n",
    "output_size = 10\n",
    "\n",
    "# Build a feed-forward network\n",
    "model = nn.Sequential(nn.Linear(input_size, hidden_sizes[0]),\n",
    "                      nn.ReLU(),\n",
    "                      nn.Linear(hidden_sizes[0], hidden_sizes[1]),\n",
    "                      nn.ReLU(),\n",
    "                      nn.Linear(hidden_sizes[1], output_size),\n",
    "                      nn.Softmax(dim=1))\n",
    "print(model)\n",
    "\n",
    "# Forward pass through the network and display output\n",
    "images, labels = next(iter(trainloader))\n",
    "images.resize_(images.shape[0], 1, 784)\n",
    "ps = model.forward(images[0,:])\n",
    "help.view_classify(images[0].view(1, 28, 28), ps)"
   ]
  },
  {
   "cell_type": "markdown",
   "metadata": {},
   "source": [
    "## Traning a Network"
   ]
  },
  {
   "cell_type": "code",
   "execution_count": 116,
   "metadata": {},
   "outputs": [
    {
     "name": "stdout",
     "output_type": "stream",
     "text": [
      "Initial weights -  Parameter containing:\n",
      "tensor([[-0.0058, -0.0210, -0.0248,  ..., -0.0036,  0.0058,  0.0078],\n",
      "        [ 0.0106, -0.0078,  0.0309,  ..., -0.0012,  0.0167, -0.0278],\n",
      "        [-0.0220,  0.0305,  0.0059,  ..., -0.0090, -0.0228,  0.0156],\n",
      "        ...,\n",
      "        [ 0.0162, -0.0054,  0.0104,  ..., -0.0321, -0.0238,  0.0129],\n",
      "        [-0.0320, -0.0307,  0.0162,  ..., -0.0295, -0.0214, -0.0077],\n",
      "        [ 0.0275,  0.0292, -0.0014,  ...,  0.0057,  0.0077,  0.0143]],\n",
      "       requires_grad=True)\n",
      "Gradient - tensor([[-1.7225e-03, -1.7225e-03, -1.7225e-03,  ..., -1.7225e-03,\n",
      "         -1.7225e-03, -1.7225e-03],\n",
      "        [ 2.2389e-03,  2.2389e-03,  2.2389e-03,  ...,  2.2389e-03,\n",
      "          2.2389e-03,  2.2389e-03],\n",
      "        [ 2.5671e-05,  2.5671e-05,  2.5671e-05,  ...,  2.5671e-05,\n",
      "          2.5671e-05,  2.5671e-05],\n",
      "        ...,\n",
      "        [ 0.0000e+00,  0.0000e+00,  0.0000e+00,  ...,  0.0000e+00,\n",
      "          0.0000e+00,  0.0000e+00],\n",
      "        [ 1.0046e-03,  1.0046e-03,  1.0046e-03,  ...,  1.0046e-03,\n",
      "          1.0046e-03,  1.0046e-03],\n",
      "        [ 0.0000e+00,  0.0000e+00,  0.0000e+00,  ...,  0.0000e+00,\n",
      "          0.0000e+00,  0.0000e+00]])\n"
     ]
    }
   ],
   "source": [
    "\n",
    "# Optimizers require the parameters to optimize and a learning rate\n",
    "optimizer = optim.SGD(model.parameters(), lr=0.01)\n",
    "\n",
    "print('Initial weights - ', model[0].weight)\n",
    "\n",
    "images, labels = next(iter(trainloader))\n",
    "images.resize_(64, 784)\n",
    "\n",
    "# Clear the gradients, do this because gradients are accumulated\n",
    "optimizer.zero_grad()\n",
    "\n",
    "# Forward pass, then backward pass, then update weights\n",
    "output = model(images)\n",
    "loss = criterion(output, labels)\n",
    "loss.backward()\n",
    "print('Gradient -', model[0].weight.grad)"
   ]
  },
  {
   "cell_type": "code",
   "execution_count": 117,
   "metadata": {},
   "outputs": [
    {
     "name": "stdout",
     "output_type": "stream",
     "text": [
      "Updated weights -  Parameter containing:\n",
      "tensor([[-0.0058, -0.0210, -0.0248,  ..., -0.0035,  0.0058,  0.0078],\n",
      "        [ 0.0106, -0.0078,  0.0309,  ..., -0.0012,  0.0167, -0.0279],\n",
      "        [-0.0220,  0.0305,  0.0059,  ..., -0.0090, -0.0228,  0.0156],\n",
      "        ...,\n",
      "        [ 0.0162, -0.0054,  0.0104,  ..., -0.0321, -0.0238,  0.0129],\n",
      "        [-0.0320, -0.0307,  0.0162,  ..., -0.0295, -0.0214, -0.0077],\n",
      "        [ 0.0275,  0.0292, -0.0014,  ...,  0.0057,  0.0077,  0.0143]],\n",
      "       requires_grad=True)\n"
     ]
    }
   ],
   "source": [
    "optimizer.step()\n",
    "print('Updated weights - ', model[0].weight)"
   ]
  },
  {
   "cell_type": "code",
   "execution_count": 118,
   "metadata": {},
   "outputs": [
    {
     "name": "stdout",
     "output_type": "stream",
     "text": [
      "Training loss: 1.8960598183593262\n",
      "Training loss: 0.8502849824647151\n",
      "Training loss: 0.5411784145623636\n",
      "Training loss: 0.4424822520313741\n",
      "Training loss: 0.3927747938456312\n"
     ]
    }
   ],
   "source": [
    "model = nn.Sequential(nn.Linear(784, 128),\n",
    "                      nn.ReLU(),\n",
    "                      nn.Linear(128, 64),\n",
    "                      nn.ReLU(),\n",
    "                      nn.Linear(64, 10),\n",
    "                      nn.LogSoftmax(dim=1))\n",
    "\n",
    "criterion = nn.NLLLoss()\n",
    "optimizer = optim.SGD(model.parameters(), lr=0.003)\n",
    "\n",
    "epochs = 5\n",
    "for e in range(epochs):\n",
    "    running_loss = 0\n",
    "    for images, labels in trainloader:\n",
    "        # Flatten MNIST images into a 784 long vector\n",
    "        images = images.view(images.shape[0], -1)\n",
    "    \n",
    "        # TODO: Training pass\n",
    "        optimizer.zero_grad()\n",
    "        \n",
    "        output = model(images)\n",
    "        loss = criterion(output, labels)\n",
    "        loss.backward()\n",
    "        optimizer.step()\n",
    "        \n",
    "        running_loss += loss.item()\n",
    "    else:\n",
    "        print(f\"Training loss: {running_loss/len(trainloader)}\")"
   ]
  },
  {
   "cell_type": "code",
   "execution_count": 120,
   "metadata": {},
   "outputs": [
    {
     "data": {
      "image/png": "[encoded data removed]",
      "text/plain": [
       "<Figure size 432x648 with 2 Axes>"
      ]
     },
     "metadata": {
      "needs_background": "light"
     },
     "output_type": "display_data"
    }
   ],
   "source": [
    "images, labels = next(iter(trainloader))\n",
    "\n",
    "img = images[0].view(1, 784)\n",
    "# Turn off gradients to speed up this part\n",
    "with torch.no_grad():\n",
    "    logps = model(img)\n",
    "\n",
    "# Output of the network are log-probabilities, need to take exponential for probabilities\n",
    "ps = torch.exp(logps)\n",
    "help.view_classify(img.view(1, 28, 28), ps)"
   ]
  },
  {
   "cell_type": "code",
   "execution_count": null,
   "metadata": {},
   "outputs": [],
   "source": []
  }
 ],
 "metadata": {
  "kernelspec": {
   "display_name": "Python 3",
   "language": "python",
   "name": "python3"
  },
  "language_info": {
   "codemirror_mode": {
    "name": "ipython",
    "version": 3
   },
   "file_extension": ".py",
   "mimetype": "text/x-python",
   "name": "python",
   "nbconvert_exporter": "python",
   "pygments_lexer": "ipython3",
   "version": "3.7.3"
  }
 },
 "nbformat": 4,
 "nbformat_minor": 2
}
