{
  "nbformat": 4,
  "nbformat_minor": 0,
  "metadata": {
    "colab": {
      "name": "PoetryGeneration.ipynb",
      "provenance": [],
      "authorship_tag": "ABX9TyNOQUgkIyXvOrKKYouodObR",
      "include_colab_link": true
    },
    "kernelspec": {
      "name": "python3",
      "display_name": "Python 3"
    },
    "accelerator": "GPU"
  },
  "cells": [
    {
      "cell_type": "markdown",
      "metadata": {
        "id": "view-in-github",
        "colab_type": "text"
      },
      "source": [
        "<a href=\"https://colab.research.google.com/github/banjodayo39/deep_learning_project/blob/master/PoetryGeneration.ipynb\" target=\"_parent\"><img src=\"https://colab.research.google.com/assets/colab-badge.svg\" alt=\"Open In Colab\"/></a>"
      ]
    },
    {
      "cell_type": "code",
      "metadata": {
        "id": "QOQXafZDMcvT",
        "colab_type": "code",
        "colab": {}
      },
      "source": [
        "from __future__ import print_function, division\n",
        "from builtins import range, input"
      ],
      "execution_count": 0,
      "outputs": []
    },
    {
      "cell_type": "code",
      "metadata": {
        "id": "n25S2l3pUGZY",
        "colab_type": "code",
        "colab": {}
      },
      "source": [
        "import os\n",
        "import sys\n",
        "import string\n",
        "import numpy as np\n",
        "import pandas as pd\n",
        "import matplotlib.pyplot as plt\n",
        "\n",
        "from keras.models import Model\n",
        "from keras.layers import Dense, Embedding, Input, LSTM\n",
        "from keras.preprocessing.text import Tokenizer\n",
        "from keras.preprocessing.sequence import pad_sequences\n",
        "from keras.optimizers import Adam, SGD\n",
        "\n",
        "import keras.backend as K"
      ],
      "execution_count": 0,
      "outputs": []
    },
    {
      "cell_type": "code",
      "metadata": {
        "id": "0saNiCTVUg1c",
        "colab_type": "code",
        "colab": {}
      },
      "source": [
        "if len(K.tensorflow_backend._get_available_gpus()) > 0:\n",
        "  from keras.layers import CuDNNLSTM as LSTM\n",
        "  from keras.layers import CuDNNGRU as GRU"
      ],
      "execution_count": 0,
      "outputs": []
    },
    {
      "cell_type": "code",
      "metadata": {
        "id": "CiatF_pvUk0M",
        "colab_type": "code",
        "colab": {}
      },
      "source": [
        "# some configuration\n",
        "MAX_SEQUENCE_LENGTH = 100\n",
        "MAX_VOCAB_SIZE = 3000\n",
        "EMBEDDING_DIM = 50\n",
        "VALIDATION_SPLIT = 0.2\n",
        "BATCH_SIZE = 128\n",
        "EPOCHS = 2000\n",
        "LATENT_DIM = 25"
      ],
      "execution_count": 0,
      "outputs": []
    },
    {
      "cell_type": "code",
      "metadata": {
        "id": "Ae3C0PJxU1OL",
        "colab_type": "code",
        "colab": {}
      },
      "source": [
        "input_texts = []\n",
        "target_texts = []\n",
        "for line in open('sample_data/robert_frost.txt'):\n",
        "  line = line.rstrip()\n",
        "  if not line:\n",
        "    continue\n",
        "  input_line = '<sos> ' + line\n",
        "  target_line = line + ' <eos>'  \n",
        "  input_texts.append(input_line)\n",
        "  target_texts.append(target_line)"
      ],
      "execution_count": 0,
      "outputs": []
    },
    {
      "cell_type": "code",
      "metadata": {
        "id": "828VBFIIcdT8",
        "colab_type": "code",
        "colab": {}
      },
      "source": [
        "all_lines = input_texts + target_texts\n"
      ],
      "execution_count": 0,
      "outputs": []
    },
    {
      "cell_type": "code",
      "metadata": {
        "id": "aSisw3ZYNKTN",
        "colab_type": "code",
        "colab": {
          "base_uri": "https://localhost:8080/",
          "height": 68
        },
        "outputId": "09bb963d-f744-4312-c86a-bc62eedbeedc"
      },
      "source": [
        "print(all_lines[2])\n",
        "print(input_texts[2])\n",
        "print(target_texts[2])"
      ],
      "execution_count": 23,
      "outputs": [
        {
          "output_type": "stream",
          "text": [
            "<sos> And be one traveler, long I stood\n",
            "<sos> And be one traveler, long I stood\n",
            "And be one traveler, long I stood <eos>\n"
          ],
          "name": "stdout"
        }
      ]
    },
    {
      "cell_type": "code",
      "metadata": {
        "id": "oSn0QtCWcjYY",
        "colab_type": "code",
        "colab": {}
      },
      "source": [
        "# convert the sentences (strings) into integers\n",
        "tokenizer = Tokenizer(num_words=MAX_VOCAB_SIZE, filters='')\n",
        "tokenizer.fit_on_texts(all_lines)\n",
        "input_sequences = tokenizer.texts_to_sequences(input_texts)\n",
        "target_sequences = tokenizer.texts_to_sequences(target_texts)\n",
        "\n"
      ],
      "execution_count": 0,
      "outputs": []
    },
    {
      "cell_type": "code",
      "metadata": {
        "id": "QkiKXW_cFL76",
        "colab_type": "code",
        "colab": {
          "base_uri": "https://localhost:8080/",
          "height": 51
        },
        "outputId": "1527a453-3771-4ff7-9b04-7ce9c313c7dc"
      },
      "source": [
        "input_texts[:2]"
      ],
      "execution_count": 25,
      "outputs": [
        {
          "output_type": "execute_result",
          "data": {
            "text/plain": [
              "['<sos> Two roads diverged in a yellow wood,',\n",
              " '<sos> And sorry I could not travel both']"
            ]
          },
          "metadata": {
            "tags": []
          },
          "execution_count": 25
        }
      ]
    },
    {
      "cell_type": "code",
      "metadata": {
        "id": "_Rcua8iZmUNx",
        "colab_type": "code",
        "outputId": "0dc9a94f-5235-4046-c49d-b07164e93547",
        "colab": {
          "base_uri": "https://localhost:8080/",
          "height": 34
        }
      },
      "source": [
        "# find max seq length\n",
        "max_sequence_length_from_data = max(len(s) for s in input_sequences)\n",
        "print('Max sequence length:', max_sequence_length_from_data)\n"
      ],
      "execution_count": 26,
      "outputs": [
        {
          "output_type": "stream",
          "text": [
            "Max sequence length: 12\n"
          ],
          "name": "stdout"
        }
      ]
    },
    {
      "cell_type": "code",
      "metadata": {
        "id": "NKyJpKFenaKi",
        "colab_type": "code",
        "outputId": "159c0b46-fa4e-4923-cff3-590aa46c5f6a",
        "colab": {
          "base_uri": "https://localhost:8080/",
          "height": 34
        }
      },
      "source": [
        "# get word -> integer mapping\n",
        "word2idx = tokenizer.word_index\n",
        "print('Found %s unique tokens.' % len(word2idx))\n",
        "assert('<sos>' in word2idx)\n",
        "assert('<eos>' in word2idx)"
      ],
      "execution_count": 27,
      "outputs": [
        {
          "output_type": "stream",
          "text": [
            "Found 3056 unique tokens.\n"
          ],
          "name": "stdout"
        }
      ]
    },
    {
      "cell_type": "code",
      "metadata": {
        "id": "0LLHwRiOTB6u",
        "colab_type": "code",
        "colab": {}
      },
      "source": [
        ""
      ],
      "execution_count": 0,
      "outputs": []
    },
    {
      "cell_type": "code",
      "metadata": {
        "id": "MSx3-cvCn5vM",
        "colab_type": "code",
        "colab": {
          "base_uri": "https://localhost:8080/",
          "height": 34
        },
        "outputId": "41845a75-01f5-40a5-9f74-4996be85243b"
      },
      "source": [
        "# pad sequences so that we get a N x T matrix\n",
        "max_sequence_length = min(max_sequence_length_from_data, MAX_SEQUENCE_LENGTH)\n",
        "input_sequences = pad_sequences(input_sequences, maxlen=max_sequence_length, padding='post')\n",
        "target_sequences = pad_sequences(target_sequences, maxlen=max_sequence_length, padding='post')\n",
        "print('Shape of data tensor:', input_sequences.shape)"
      ],
      "execution_count": 28,
      "outputs": [
        {
          "output_type": "stream",
          "text": [
            "Shape of data tensor: (1436, 12)\n"
          ],
          "name": "stdout"
        }
      ]
    },
    {
      "cell_type": "code",
      "metadata": {
        "id": "kyx2h6guOsem",
        "colab_type": "code",
        "colab": {
          "base_uri": "https://localhost:8080/",
          "height": 34
        },
        "outputId": "e07c0d7f-17d9-4d64-94b3-ccf90e0c595b"
      },
      "source": [
        "max_sequence_length"
      ],
      "execution_count": 29,
      "outputs": [
        {
          "output_type": "execute_result",
          "data": {
            "text/plain": [
              "12"
            ]
          },
          "metadata": {
            "tags": []
          },
          "execution_count": 29
        }
      ]
    },
    {
      "cell_type": "code",
      "metadata": {
        "id": "2dpiIcP3n_OV",
        "colab_type": "code",
        "colab": {
          "base_uri": "https://localhost:8080/",
          "height": 51
        },
        "outputId": "3335271c-320e-42ba-cd60-43101ceef95f"
      },
      "source": [
        "# load in pre-trained word vectors\n",
        "print('Loading word vectors...')\n",
        "word2vec = {}\n",
        "with open(os.path.join('sample_data/glove.6B.%sd.txt' % EMBEDDING_DIM)) as f:\n",
        "  # is just a space-separated text file in the format:\n",
        "  # word vec[0] vec[1] vec[2] ...\n",
        "  for line in f:\n",
        "    values = line.split()\n",
        "    word = values[0]\n",
        "    vec = np.asarray(values[1:], dtype='float32')\n",
        "    word2vec[word] = vec\n",
        "print('Found %s word vectors.' % len(word2vec))\n",
        "\n"
      ],
      "execution_count": 31,
      "outputs": [
        {
          "output_type": "stream",
          "text": [
            "Loading word vectors...\n",
            "Found 400000 word vectors.\n"
          ],
          "name": "stdout"
        }
      ]
    },
    {
      "cell_type": "code",
      "metadata": {
        "id": "iEFjKWIjI5Tg",
        "colab_type": "code",
        "colab": {
          "base_uri": "https://localhost:8080/",
          "height": 34
        },
        "outputId": "741d0363-0087-431e-ea47-1b9731ea2969"
      },
      "source": [
        "# prepare embedding matrix\n",
        "print('Filling pre-trained embeddings...')\n",
        "num_words = min(MAX_VOCAB_SIZE, len(word2idx) + 1)\n",
        "embedding_matrix = np.zeros((num_words, EMBEDDING_DIM))\n",
        "for word, i in word2idx.items():\n",
        "  if i < MAX_VOCAB_SIZE:\n",
        "    embedding_vector = word2vec.get(word)\n",
        "    if embedding_vector is not None:\n",
        "      # words not found in embedding index will be all zeros.\n",
        "      embedding_matrix[i] = embedding_vector\n",
        "\n"
      ],
      "execution_count": 32,
      "outputs": [
        {
          "output_type": "stream",
          "text": [
            "Filling pre-trained embeddings...\n"
          ],
          "name": "stdout"
        }
      ]
    },
    {
      "cell_type": "code",
      "metadata": {
        "id": "B1ALBaBjPSMq",
        "colab_type": "code",
        "colab": {}
      },
      "source": [
        "# one-hot the targets (can't use sparse cross-entropy)\n",
        "one_hot_targets = np.zeros((len(input_sequences), max_sequence_length, num_words))\n",
        "for i, target_sequence in enumerate(target_sequences):\n",
        "  for t, word in enumerate(target_sequence):\n",
        "    if word > 0:\n",
        "      one_hot_targets[i, t, word] = 1"
      ],
      "execution_count": 0,
      "outputs": []
    },
    {
      "cell_type": "code",
      "metadata": {
        "id": "_J6OgIUgPm2w",
        "colab_type": "code",
        "colab": {
          "base_uri": "https://localhost:8080/",
          "height": 71
        },
        "outputId": "f99eede5-4fc7-4fea-bd72-3c0064f0e986"
      },
      "source": [
        "\n",
        "# load pre-trained word embeddings into an Embedding layer\n",
        "embedding_layer = Embedding(\n",
        "  num_words,\n",
        "  EMBEDDING_DIM,\n",
        "  weights=[embedding_matrix],\n",
        "  # trainable=False\n",
        ")\n"
      ],
      "execution_count": 34,
      "outputs": [
        {
          "output_type": "stream",
          "text": [
            "WARNING:tensorflow:From /usr/local/lib/python3.6/dist-packages/keras/backend/tensorflow_backend.py:66: The name tf.get_default_graph is deprecated. Please use tf.compat.v1.get_default_graph instead.\n",
            "\n"
          ],
          "name": "stdout"
        }
      ]
    },
    {
      "cell_type": "code",
      "metadata": {
        "id": "tfiZgj9VPtt8",
        "colab_type": "code",
        "colab": {}
      },
      "source": [
        "print('Building model...')\n",
        "\n",
        "# create an LSTM network with a single LSTM\n",
        "input_ = Input(shape=(max_sequence_length,))\n",
        "initial_h = Input(shape=(LATENT_DIM,))\n",
        "initial_c = Input(shape=(LATENT_DIM,))\n",
        "x = embedding_layer(input_)\n",
        "lstm = LSTM(LATENT_DIM, return_sequences=True, return_state=True)\n",
        "x, _, _ = lstm(x, initial_state=[initial_h, initial_c]) # don't need the states here\n",
        "dense = Dense(num_words, activation='softmax')\n",
        "output = dense(x)\n",
        "\n",
        "model = Model([input_, initial_h, initial_c], output)\n",
        "model.compile(\n",
        "  loss='categorical_crossentropy',\n",
        "  # optimizer='rmsprop',\n",
        "  optimizer=Adam(lr=0.01),\n",
        "  # optimizer=SGD(lr=0.01, momentum=0.9),\n",
        "  metrics=['accuracy']\n",
        ")\n"
      ],
      "execution_count": 0,
      "outputs": []
    },
    {
      "cell_type": "code",
      "metadata": {
        "id": "NoWbQS3lPyFZ",
        "colab_type": "code",
        "colab": {}
      },
      "source": [
        "print('Training model...')\n",
        "z = np.zeros((len(input_sequences), LATENT_DIM))\n",
        "r = model.fit(\n",
        "  [input_sequences, z, z],\n",
        "  one_hot_targets,\n",
        "  batch_size=BATCH_SIZE,\n",
        "  epochs=EPOCHS,\n",
        "  validation_split=VALIDATION_SPLIT\n",
        ")"
      ],
      "execution_count": 0,
      "outputs": []
    },
    {
      "cell_type": "code",
      "metadata": {
        "id": "dP1Bn7pHQxOO",
        "colab_type": "code",
        "colab": {
          "base_uri": "https://localhost:8080/",
          "height": 267
        },
        "outputId": "32072da9-fa57-481c-ff16-c80121008943"
      },
      "source": [
        "# plot some data\n",
        "plt.plot(r.history['loss'], label='loss')\n",
        "plt.plot(r.history['val_loss'], label='val_loss')\n",
        "plt.legend()\n",
        "plt.show()"
      ],
      "execution_count": 37,
      "outputs": [
        {
          "output_type": "display_data",
          "data": {
            "image/png": "[encoded data removed]",
            "text/plain": [
              "<Figure size 432x288 with 1 Axes>"
            ]
          },
          "metadata": {
            "tags": []
          }
        }
      ]
    },
    {
      "cell_type": "code",
      "metadata": {
        "id": "GWjpe3okUHXL",
        "colab_type": "code",
        "colab": {
          "base_uri": "https://localhost:8080/",
          "height": 265
        },
        "outputId": "94c1caf4-b5aa-446c-d36b-7eb1d5cd33a1"
      },
      "source": [
        "# accuracies\n",
        "plt.plot(r.history['acc'], label='acc')\n",
        "plt.plot(r.history['val_acc'], label='val_acc')\n",
        "plt.legend()\n",
        "plt.show()"
      ],
      "execution_count": 38,
      "outputs": [
        {
          "output_type": "display_data",
          "data": {
            "image/png": "[encoded data removed]",
            "text/plain": [
              "<Figure size 432x288 with 1 Axes>"
            ]
          },
          "metadata": {
            "tags": []
          }
        }
      ]
    },
    {
      "cell_type": "code",
      "metadata": {
        "id": "hbi_yb1fULuQ",
        "colab_type": "code",
        "colab": {}
      },
      "source": [
        "# make a sampling model\n",
        "input2 = Input(shape=(1,)) # we'll only input one word at a time\n",
        "x = embedding_layer(input2)\n",
        "x, h, c = lstm(x, initial_state=[initial_h, initial_c]) # now we need states to feed back in\n",
        "output2 = dense(x)\n",
        "sampling_model = Model([input2, initial_h, initial_c], [output2, h, c])"
      ],
      "execution_count": 0,
      "outputs": []
    },
    {
      "cell_type": "code",
      "metadata": {
        "id": "VVLVOtfSUSik",
        "colab_type": "code",
        "colab": {}
      },
      "source": [
        "# reverse word2idx dictionary to get back words\n",
        "# during prediction\n",
        "idx2word = {v:k for k, v in word2idx.items()}"
      ],
      "execution_count": 0,
      "outputs": []
    },
    {
      "cell_type": "code",
      "metadata": {
        "id": "vOavFQbLUY0Y",
        "colab_type": "code",
        "colab": {}
      },
      "source": [
        "def sample_line():\n",
        "  # initial inputs\n",
        "  np_input = np.array([[ word2idx['<sos>'] ]])\n",
        "  h = np.zeros((1, LATENT_DIM))\n",
        "  c = np.zeros((1, LATENT_DIM))\n",
        "\n",
        "  # so we know when to quit\n",
        "  eos = word2idx['<eos>']\n",
        "\n",
        "  # store the output here\n",
        "  output_sentence = []\n",
        "\n",
        "  for _ in range(max_sequence_length):\n",
        "    o, h, c = sampling_model.predict([np_input, h, c])\n",
        "\n",
        "    # print(\"o.shape:\", o.shape, o[0,0,:10])\n",
        "    # idx = np.argmax(o[0,0])\n",
        "    probs = o[0,0]\n",
        "    if np.argmax(probs) == 0:\n",
        "      print(\"wtf\")\n",
        "    probs[0] = 0\n",
        "    probs /= probs.sum()\n",
        "    idx = np.random.choice(len(probs), p=probs)\n",
        "    if idx == eos:\n",
        "      break\n",
        "\n",
        "    # accuulate output\n",
        "    output_sentence.append(idx2word.get(idx, '<WTF %s>' % idx))\n",
        "\n",
        "    # make the next input into model\n",
        "    np_input[0,0] = idx\n",
        "\n",
        "  return ' '.join(output_sentence)\n"
      ],
      "execution_count": 0,
      "outputs": []
    },
    {
      "cell_type": "code",
      "metadata": {
        "id": "MGoA_wjZUfON",
        "colab_type": "code",
        "colab": {
          "base_uri": "https://localhost:8080/",
          "height": 442
        },
        "outputId": "53c8cf52-1f46-4bae-ba67-e77b6f54c6e6"
      },
      "source": [
        "# generate a 4 line poem\n",
        "while True:\n",
        "  for _ in range(4):\n",
        "    print(sample_line())\n",
        "\n",
        "  ans = input(\"---generate another? [Y/n]---\")\n",
        "  if ans and ans[0].lower().startswith('n'):\n",
        "    break\n"
      ],
      "execution_count": 43,
      "outputs": [
        {
          "output_type": "stream",
          "text": [
            "the west was getting out of gold,\n",
            "and had it published. it was all about\n",
            "(the kitchen had been dark) i had to all it in the\n",
            "i don't remember why i ever cared.\n",
            "---generate another? [Y/n]---Y\n",
            "several times over, and by marrying father\n",
            "up one flight from the cellar to the kitchen,\n",
            "'not from the rain. i think it's going to rain.'\n",
            "no more so than became a man—\n",
            "---generate another? [Y/n]---Y\n",
            "i pushed myself upstairs, and in the light\n",
            "a voice said, look me in the stars\n",
            "all fresh and sound from the recent axe.\n",
            "'i idled down.'\n",
            "---generate another? [Y/n]---Y\n",
            "the finger-pieces slid in all directions.\n",
            "and between what he doesn't know\n",
            "off from the house as far as i could hear still\n",
            "(but not unhouse).\n",
            "---generate another? [Y/n]---Y\n",
            "first me why far away\n",
            "'where enough for the kitchen chimney:\n",
            "almost the moment he was given an opening,\n",
            "unless it be\n",
            "---generate another? [Y/n]---n\n"
          ],
          "name": "stdout"
        }
      ]
    },
    {
      "cell_type": "code",
      "metadata": {
        "id": "d8uDJbfAUiTX",
        "colab_type": "code",
        "colab": {}
      },
      "source": [
        ""
      ],
      "execution_count": 0,
      "outputs": []
    }
  ]
}
