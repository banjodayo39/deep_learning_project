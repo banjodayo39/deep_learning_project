{
  "nbformat": 4,
  "nbformat_minor": 0,
  "metadata": {
    "colab": {
      "name": "Seq2Seq.ipynb",
      "provenance": [],
      "machine_shape": "hm",
      "authorship_tag": "ABX9TyOQI4Ea3QyUt9xKN7gYRqbg",
      "include_colab_link": true
    },
    "kernelspec": {
      "name": "python3",
      "display_name": "Python 3"
    },
    "accelerator": "GPU"
  },
  "cells": [
    {
      "cell_type": "markdown",
      "metadata": {
        "id": "view-in-github",
        "colab_type": "text"
      },
      "source": [
        "<a href=\"https://colab.research.google.com/github/banjodayo39/deep_learning_project/blob/master/Seq2Seq.ipynb\" target=\"_parent\"><img src=\"https://colab.research.google.com/assets/colab-badge.svg\" alt=\"Open In Colab\"/></a>"
      ]
    },
    {
      "cell_type": "markdown",
      "metadata": {
        "id": "yv8ONJLhGn-n",
        "colab_type": "text"
      },
      "source": [
        "Import Libraries\n"
      ]
    },
    {
      "cell_type": "code",
      "metadata": {
        "id": "noIr1Vb7LW3p",
        "colab_type": "code",
        "colab": {}
      },
      "source": [
        "from keras.models import Model\n",
        "from keras.layers import LSTM, GRU, Input, Dense, Embedding\n",
        "from keras.preprocessing.text import Tokenizer \n",
        "from keras.preprocessing.sequence import pad_sequences\n",
        "from keras.utils import to_categorical\n",
        "import matplotlib.pyplot as plt \n",
        "import numpy as np "
      ],
      "execution_count": 0,
      "outputs": []
    },
    {
      "cell_type": "code",
      "metadata": {
        "id": "Hj_OHusK2G8O",
        "colab_type": "code",
        "colab": {
          "base_uri": "https://localhost:8080/",
          "height": 34
        },
        "outputId": "82c702fb-f08a-4241-86fd-d288f750a57d"
      },
      "source": [
        "import keras.backend as K\n",
        "if len(K.tensorflow_backend._get_available_gpus()) > 0:\n",
        "  from keras.layers import CuDNNLSTM as LSTM\n",
        "  from keras.layers import CuDNNGRU as GRU\n",
        "  print(\"Yes\")"
      ],
      "execution_count": 54,
      "outputs": [
        {
          "output_type": "stream",
          "text": [
            "Yes\n"
          ],
          "name": "stdout"
        }
      ]
    },
    {
      "cell_type": "markdown",
      "metadata": {
        "id": "uFOQBFSTHXwG",
        "colab_type": "text"
      },
      "source": [
        "Config Hyp"
      ]
    },
    {
      "cell_type": "code",
      "metadata": {
        "id": "TkMFlzD3HOTq",
        "colab_type": "code",
        "colab": {}
      },
      "source": [
        "BATCH_SIZE = 64\n",
        "LATENT_DIM = 256\n",
        "EMBEDDING_DIM = 100\n",
        "MAX_NUM_WORDS = 20000\n",
        "NUM_SAMPLES = 10000\n",
        "EPOCHS = 40"
      ],
      "execution_count": 0,
      "outputs": []
    },
    {
      "cell_type": "markdown",
      "metadata": {
        "id": "LRqzJRNqLNrN",
        "colab_type": "text"
      },
      "source": [
        "Input Variable \n"
      ]
    },
    {
      "cell_type": "code",
      "metadata": {
        "id": "3S0SD1gkLQV8",
        "colab_type": "code",
        "colab": {}
      },
      "source": [
        "input_texts = []\n",
        "target_texts = []\n",
        "target_texts_inputs = []"
      ],
      "execution_count": 0,
      "outputs": []
    },
    {
      "cell_type": "code",
      "metadata": {
        "id": "2ejA8uLVMzJE",
        "colab_type": "code",
        "outputId": "07bdef66-e0f5-45fb-eb91-9dafe533961b",
        "colab": {
          "base_uri": "https://localhost:8080/",
          "height": 187
        }
      },
      "source": [
        "t = 0\n",
        "for line in open('sample_data/fra.txt'):\n",
        "  # only keep a limited number of samples\n",
        "  t += 1\n",
        "  if t > NUM_SAMPLES:\n",
        "    break\n",
        "\n",
        "  # input and target are separated by tab\n",
        "  if '\\t' not in line:\n",
        "    continue\n",
        "\n",
        "  # split up the input and translation\n",
        "  line = line.rstrip().split('\\t')\n",
        "  input_text, translation = line[0], line[1]\n",
        "\n",
        "  if t < 10:\n",
        "    print(input_text, translation)\n",
        "\n",
        "  # make the target input and output\n",
        "  # recall we'll be using teacher forcing\n",
        "  target_text = translation + ' <eos>'\n",
        "  target_text_input = '<sos> ' + translation\n",
        "\n",
        "  input_texts.append(input_text)\n",
        "  target_texts.append(target_text)\n",
        "  target_texts_inputs.append(target_text_input)\n",
        "print(\"num samples:\", len(input_texts))"
      ],
      "execution_count": 57,
      "outputs": [
        {
          "output_type": "stream",
          "text": [
            "Go. Va !\n",
            "Hi. Salut !\n",
            "Hi. Salut.\n",
            "Run! Cours !\n",
            "Run! Courez !\n",
            "Who? Qui ?\n",
            "Wow! Ça alors !\n",
            "Fire! Au feu !\n",
            "Help! À l'aide !\n",
            "num samples: 10000\n"
          ],
          "name": "stdout"
        }
      ]
    },
    {
      "cell_type": "code",
      "metadata": {
        "id": "Tz9vSM54Pe4A",
        "colab_type": "code",
        "outputId": "1ceda2ce-7a87-439b-b746-e72efd9e3dc0",
        "colab": {
          "base_uri": "https://localhost:8080/",
          "height": 119
        }
      },
      "source": [
        "#tokenize the inputs\n",
        "tokenizer_inputs = Tokenizer(num_words=MAX_NUM_WORDS)\n",
        "tokenizer_inputs.fit_on_texts(input_texts)\n",
        "input_sequences = tokenizer_inputs.texts_to_sequences(input_texts)\n",
        "\n",
        "# get the word to index mapping for input language\n",
        "word2idx_inputs = tokenizer_inputs.word_index\n",
        "print('Found %s unique input tokens.' % len(word2idx_inputs))\n",
        "\n",
        "# determine maximum length input sequence\n",
        "max_len_input = max(len(s) for s in input_sequences)\n",
        "\n",
        "# tokenize the outputs\n",
        "# don't filter out special characters\n",
        "# otherwise <sos> and <eos> won't appear\n",
        "tokenizer_outputs = Tokenizer(num_words=MAX_NUM_WORDS, filters='')\n",
        "tokenizer_outputs.fit_on_texts(target_texts + target_texts_inputs) # inefficient, oh well\n",
        "target_sequences = tokenizer_outputs.texts_to_sequences(target_texts)\n",
        "target_sequences_inputs = tokenizer_outputs.texts_to_sequences(target_texts_inputs)\n",
        "\n",
        "# get the word to index mapping for output language\n",
        "word2idx_outputs = tokenizer_outputs.word_index\n",
        "print('Found %s unique output tokens.' % len(word2idx_outputs))\n",
        "\n",
        "# store number of output words for later\n",
        "# remember to add 1 since indexing starts at 1\n",
        "num_words_output = len(word2idx_outputs) + 1\n",
        "\n",
        "# determine maximum length output sequence\n",
        "max_len_target = max(len(s) for s in target_sequences)\n",
        "\n",
        "\n",
        "# pad the sequences\n",
        "encoder_inputs = pad_sequences(input_sequences, maxlen=max_len_input)\n",
        "print(\"encoder_inputs.shape:\", encoder_inputs.shape)\n",
        "print(\"encoder_inputs[0]:\", encoder_inputs[0])\n",
        "\n",
        "decoder_inputs = pad_sequences(target_sequences_inputs, maxlen=max_len_target, padding='post')\n",
        "print(\"decoder_inputs[0]:\", decoder_inputs[0])\n",
        "print(\"decoder_inputs.shape:\", decoder_inputs.shape)\n",
        "\n",
        "decoder_targets = pad_sequences(target_sequences, maxlen=max_len_target, padding='post')\n"
      ],
      "execution_count": 58,
      "outputs": [
        {
          "output_type": "stream",
          "text": [
            "Found 2146 unique input tokens.\n",
            "Found 5754 unique output tokens.\n",
            "encoder_inputs.shape: (10000, 5)\n",
            "encoder_inputs[0]: [ 0  0  0  0 15]\n",
            "decoder_inputs[0]: [ 2 57  4  0  0  0  0  0  0  0  0]\n",
            "decoder_inputs.shape: (10000, 11)\n"
          ],
          "name": "stdout"
        }
      ]
    },
    {
      "cell_type": "code",
      "metadata": {
        "id": "EdnJOBvS6S4u",
        "colab_type": "code",
        "outputId": "a51d5465-ac48-414c-e6a3-fb511408018d",
        "colab": {
          "base_uri": "https://localhost:8080/",
          "height": 51
        }
      },
      "source": [
        "# store all the pre-trained word vectors\n",
        "print('Loading word vectors...')\n",
        "word2vec = {}\n",
        "with open('sample_data/glove.6B.%sd.txt' % EMBEDDING_DIM) as f:\n",
        "  # is just a space-separated text file in the format:\n",
        "  # word vec[0] vec[1] vec[2] ...\n",
        "  for line in f:\n",
        "    values = line.split()\n",
        "    word = values[0]\n",
        "    vec = np.asarray(values[1:], dtype='float32')\n",
        "    word2vec[word] = vec\n",
        "print('Found %s word vectors.' % len(word2vec))"
      ],
      "execution_count": 59,
      "outputs": [
        {
          "output_type": "stream",
          "text": [
            "Loading word vectors...\n",
            "Found 386776 word vectors.\n"
          ],
          "name": "stdout"
        }
      ]
    },
    {
      "cell_type": "markdown",
      "metadata": {
        "id": "INMTOP9NAsOt",
        "colab_type": "text"
      },
      "source": [
        "Prepare embedding matrix"
      ]
    },
    {
      "cell_type": "code",
      "metadata": {
        "id": "rJFp3GNXAklT",
        "colab_type": "code",
        "outputId": "5646831a-3f27-4f7d-a999-04efc9e87a6f",
        "colab": {
          "base_uri": "https://localhost:8080/",
          "height": 34
        }
      },
      "source": [
        "print('Filling pre-trained embeddings...')\n",
        "num_words = min(MAX_NUM_WORDS, len(word2idx_inputs) + 1)\n",
        "embedding_matrix = np.zeros((num_words, EMBEDDING_DIM))\n",
        "for word, i in word2idx_inputs.items():\n",
        "  if i < MAX_NUM_WORDS:\n",
        "    embedding_vector = word2vec.get(word)\n",
        "    if embedding_vector is not None:\n",
        "      # words not found in embedding index will be all zeros.\n",
        "      embedding_matrix[i] = embedding_vector\n"
      ],
      "execution_count": 61,
      "outputs": [
        {
          "output_type": "stream",
          "text": [
            "Filling pre-trained embeddings...\n"
          ],
          "name": "stdout"
        }
      ]
    },
    {
      "cell_type": "markdown",
      "metadata": {
        "id": "E_VbSNAyBEHN",
        "colab_type": "text"
      },
      "source": [
        "Creating embedding layers"
      ]
    },
    {
      "cell_type": "code",
      "metadata": {
        "id": "bkNT-ImQA21W",
        "colab_type": "code",
        "colab": {}
      },
      "source": [
        "embedding_layer = Embedding(\n",
        "  num_words,\n",
        "  EMBEDDING_DIM,\n",
        "  weights=[embedding_matrix],\n",
        "  input_length=max_len_input,\n",
        "  # trainable=True\n",
        ")\n"
      ],
      "execution_count": 0,
      "outputs": []
    },
    {
      "cell_type": "code",
      "metadata": {
        "id": "B_lKeYRzBG4P",
        "colab_type": "code",
        "colab": {}
      },
      "source": [
        "# create targets, since we cannot use sparse\n",
        "# categorical cross entropy when we have sequences\n",
        "decoder_targets_one_hot = np.zeros(\n",
        "  (\n",
        "    len(input_texts),\n",
        "    max_len_target,\n",
        "    num_words_output\n",
        "  ),\n",
        "  dtype='float32'\n",
        ")\n",
        "\n",
        "# assign the values\n",
        "for i, d in enumerate(decoder_targets):\n",
        "  for t, word in enumerate(d):\n",
        "    decoder_targets_one_hot[i, t, word] = 1"
      ],
      "execution_count": 0,
      "outputs": []
    },
    {
      "cell_type": "markdown",
      "metadata": {
        "id": "fbT4cGO2BUWt",
        "colab_type": "text"
      },
      "source": [
        "Build the model "
      ]
    },
    {
      "cell_type": "code",
      "metadata": {
        "id": "d9-OLtuaBNfD",
        "colab_type": "code",
        "colab": {}
      },
      "source": [
        "encoder_inputs_placeholder = Input(shape=(max_len_input,))\n",
        "x = embedding_layer(encoder_inputs_placeholder)\n",
        "encoder = LSTM(\n",
        "  LATENT_DIM,\n",
        "  return_state=True,\n",
        "  # dropout=0.5 # dropout not available on gpu\n",
        ")\n",
        "encoder_outputs, h, c = encoder(x)\n",
        "# encoder_outputs, h = encoder(x) #gru"
      ],
      "execution_count": 0,
      "outputs": []
    },
    {
      "cell_type": "code",
      "metadata": {
        "id": "tUcDkQGORqeL",
        "colab_type": "code",
        "colab": {}
      },
      "source": [
        "encoder_outputs, h, c = encoder(x)\n",
        "encoder_states = [h, c]\n",
        "\n",
        "# set up the decoder, using [h, c] as initial state \n",
        "# Set up the decoder, using [h, c] as initial state.\n",
        "decoder_inputs_placeholder = Input(shape=(max_len_target,))\n",
        "\n",
        "# this word embedding will not use pre-trained vectors\n",
        "# although you could\n",
        "decoder_embedding = Embedding(num_words_output, LATENT_DIM)\n",
        "decoder_inputs_x = decoder_embedding(decoder_inputs_placeholder)\n",
        "\n",
        "# since the decoder is a \"to-many\" model we want to have\n",
        "# return_sequences=True\n",
        "decoder_lstm = LSTM(\n",
        "  LATENT_DIM,\n",
        "  return_sequences=True,\n",
        "  return_state=True,\n",
        "  # dropout=0.5 # dropout not available on gpu\n",
        ")\n",
        "decoder_outputs, _, _ = decoder_lstm(\n",
        "  decoder_inputs_x,\n",
        "  initial_state=encoder_states\n",
        ")"
      ],
      "execution_count": 0,
      "outputs": []
    },
    {
      "cell_type": "code",
      "metadata": {
        "id": "BXQkmky1rz1A",
        "colab_type": "code",
        "colab": {}
      },
      "source": [
        "\n",
        "# Create the model object\n",
        "model = Model(inputs = [encoder_inputs_placeholder, decoder_inputs_placeholder], outputs = decoder_outputs)\n"
      ],
      "execution_count": 0,
      "outputs": []
    },
    {
      "cell_type": "code",
      "metadata": {
        "id": "h88vNx8_ryW1",
        "colab_type": "code",
        "colab": {}
      },
      "source": [
        "\n",
        "\n",
        "def custom_loss(y_true, y_pred):\n",
        "  # both are of shape N x T x K\n",
        "  mask = K.cast(y_true > 0, dtype='float32')\n",
        "  out = mask * y_true * K.log(y_pred)\n",
        "  return -K.sum(out) / K.sum(mask)"
      ],
      "execution_count": 0,
      "outputs": []
    },
    {
      "cell_type": "code",
      "metadata": {
        "colab_type": "code",
        "id": "u3KbgP7WU6__",
        "colab": {
          "base_uri": "https://localhost:8080/",
          "height": 1000
        },
        "outputId": "c2dd5e3f-9e2e-46f7-f047-b13025f5b641"
      },
      "source": [
        "encoder_outputs, h, c = encoder(x)\n",
        "# encoder_outputs, h = encoder(x) #gru\n",
        "\n",
        "# keep only the states to pass into decoder\n",
        "encoder_states = [h, c]\n",
        "# encoder_states = [state_h] # gru\n",
        "\n",
        "# Set up the decoder, using [h, c] as initial state.\n",
        "decoder_inputs_placeholder = Input(shape=(max_len_target,))\n",
        "\n",
        "# this word embedding will not use pre-trained vectors\n",
        "# although you could\n",
        "decoder_embedding = Embedding(num_words_output, LATENT_DIM)\n",
        "decoder_inputs_x = decoder_embedding(decoder_inputs_placeholder)\n",
        "\n",
        "# since the decoder is a \"to-many\" model we want to have\n",
        "# return_sequences=True\n",
        "decoder_lstm = LSTM(\n",
        "  LATENT_DIM,\n",
        "  return_sequences=True,\n",
        "  return_state=True,\n",
        "  # dropout=0.5 # dropout not available on gpu\n",
        ")\n",
        "decoder_outputs, _, _ = decoder_lstm(\n",
        "  decoder_inputs_x,\n",
        "  initial_state=encoder_states\n",
        ")\n",
        "\n",
        "# decoder_outputs, _ = decoder_gru(\n",
        "#   decoder_inputs_x,\n",
        "#   initial_state=encoder_states\n",
        "# )\n",
        "\n",
        "# final dense layer for predictions\n",
        "decoder_dense = Dense(num_words_output, activation='softmax')\n",
        "decoder_outputs = decoder_dense(decoder_outputs)\n",
        "\n",
        "# Create the model object\n",
        "model = Model([encoder_inputs_placeholder, decoder_inputs_placeholder], decoder_outputs)\n",
        "\n",
        "\n",
        "def custom_loss(y_true, y_pred):\n",
        "  # both are of shape N x T x K\n",
        "  mask = K.cast(y_true > 0, dtype='float32')\n",
        "  out = mask * y_true * K.log(y_pred)\n",
        "  return -K.sum(out) / K.sum(mask)\n",
        "\n",
        "\n",
        "def acc(y_true, y_pred):\n",
        "  # both are of shape N x T x K\n",
        "  targ = K.argmax(y_true, axis=-1)\n",
        "  pred = K.argmax(y_pred, axis=-1)\n",
        "  correct = K.cast(K.equal(targ, pred), dtype='float32')\n",
        "\n",
        "  # 0 is padding, don't include those\n",
        "  mask = K.cast(K.greater(targ, 0), dtype='float32')\n",
        "  n_correct = K.sum(mask * correct)\n",
        "  n_total = K.sum(mask)\n",
        "  return n_correct / n_total\n",
        "\n",
        "model.compile(optimizer='adam', loss=custom_loss, metrics=[acc])\n",
        "\n",
        "# Compile the model and train it\n",
        "# model.compile(\n",
        "#   optimizer='rmsprop',\n",
        "#   loss='categorical_crossentropy',\n",
        "#   metrics=['accuracy']\n",
        "# )\n",
        "\n",
        "\n",
        "\n",
        "r = model.fit(\n",
        "  [encoder_inputs, decoder_inputs], decoder_targets_one_hot,\n",
        "  batch_size=BATCH_SIZE,\n",
        "  epochs=EPOCHS,\n",
        "  validation_split=0.2,\n",
        ")\n",
        "\n",
        "# plot some data\n",
        "plt.plot(r.history['loss'], label='loss')\n",
        "plt.plot(r.history['val_loss'], label='val_loss')\n",
        "plt.legend()\n",
        "plt.show()\n",
        "\n",
        "# accuracies\n",
        "plt.plot(r.history['acc'], label='acc')\n",
        "plt.plot(r.history['val_acc'], label='val_acc')\n",
        "plt.legend()\n",
        "plt.show()\n",
        "\n",
        "# Save model\n",
        "model.save('s2s.h5')\n",
        "\n",
        "\n",
        "\n",
        "\n",
        "##### Make predictions #####\n",
        "# As with the poetry example, we need to create another model\n",
        "# that can take in the RNN state and previous word as input\n",
        "# and accept a T=1 sequence.\n",
        "\n",
        "# The encoder will be stand-alone\n",
        "# From this we will get our initial decoder hidden state\n",
        "encoder_model = Model(encoder_inputs_placeholder, encoder_states)\n",
        "\n",
        "decoder_state_input_h = Input(shape=(LATENT_DIM,))\n",
        "decoder_state_input_c = Input(shape=(LATENT_DIM,))\n",
        "decoder_states_inputs = [decoder_state_input_h, decoder_state_input_c]\n",
        "# decoder_states_inputs = [decoder_state_input_h] # gru\n",
        "\n",
        "decoder_inputs_single = Input(shape=(1,))\n",
        "decoder_inputs_single_x = decoder_embedding(decoder_inputs_single)\n",
        "\n",
        "# this time, we want to keep the states too, to be output\n",
        "# by our sampling model\n",
        "decoder_outputs, h, c = decoder_lstm(\n",
        "  decoder_inputs_single_x,\n",
        "  initial_state=decoder_states_inputs\n",
        ")\n",
        "# decoder_outputs, state_h = decoder_lstm(\n",
        "#   decoder_inputs_single_x,\n",
        "#   initial_state=decoder_states_inputs\n",
        "# ) #gru\n",
        "decoder_states = [h, c]\n",
        "# decoder_states = [h] # gru\n",
        "decoder_outputs = decoder_dense(decoder_outputs)\n",
        "\n",
        "# The sampling model\n",
        "# inputs: y(t-1), h(t-1), c(t-1)\n",
        "# outputs: y(t), h(t), c(t)\n",
        "decoder_model = Model(\n",
        "  [decoder_inputs_single] + decoder_states_inputs, \n",
        "  [decoder_outputs] + decoder_states\n",
        ")\n",
        "\n",
        "# map indexes back into real words\n",
        "# so we can view the results\n",
        "idx2word_eng = {v:k for k, v in word2idx_inputs.items()}\n",
        "idx2word_trans = {v:k for k, v in word2idx_outputs.items()}\n",
        "\n",
        "\n",
        "def decode_sequence(input_seq):\n",
        "  # Encode the input as state vectors.\n",
        "  states_value = encoder_model.predict(input_seq)\n",
        "\n",
        "  # Generate empty target sequence of length 1.\n",
        "  target_seq = np.zeros((1, 1))\n",
        "\n",
        "  # Populate the first character of target sequence with the start character.\n",
        "  # NOTE: tokenizer lower-cases all words\n",
        "  target_seq[0, 0] = word2idx_outputs['<sos>']\n",
        "\n",
        "  # if we get this we break\n",
        "  eos = word2idx_outputs['<eos>']\n",
        "\n",
        "  # Create the translation\n",
        "  output_sentence = []\n",
        "  for _ in range(max_len_target):\n",
        "    output_tokens, h, c = decoder_model.predict(\n",
        "      [target_seq] + states_value\n",
        "    )\n",
        "    # output_tokens, h = decoder_model.predict(\n",
        "    #     [target_seq] + states_value\n",
        "    # ) # gru\n",
        "\n",
        "    # Get next word\n",
        "    idx = np.argmax(output_tokens[0, 0, :])\n",
        "\n",
        "    # End sentence of EOS\n",
        "    if eos == idx:\n",
        "      break\n",
        "\n",
        "    word = ''\n",
        "    if idx > 0:\n",
        "      word = idx2word_trans[idx]\n",
        "      output_sentence.append(word)\n",
        "\n",
        "    # Update the decoder input\n",
        "    # which is just the word just generated\n",
        "    target_seq[0, 0] = idx\n",
        "\n",
        "    # Update states\n",
        "    states_value = [h, c]\n",
        "    # states_value = [h] # gru\n",
        "\n",
        "  return ' '.join(output_sentence)\n",
        "\n",
        "\n",
        "\n",
        "while True:\n",
        "  # Do some test translations\n",
        "  i = np.random.choice(len(input_texts))\n",
        "  input_seq = encoder_inputs[i:i+1]\n",
        "  translation = decode_sequence(input_seq)\n",
        "  print('-')\n",
        "  print('Input:', input_texts[i])\n",
        "  print('Translation:', translation)\n",
        "\n",
        "  ans = input(\"Continue? [Y/n]\")\n",
        "  if ans and ans.lower().startswith('n'):\n",
        "    break\n",
        "\n"
      ],
      "execution_count": 77,
      "outputs": [
        {
          "output_type": "stream",
          "text": [
            "WARNING:tensorflow:From /usr/local/lib/python3.6/dist-packages/keras/backend/tensorflow_backend.py:1033: The name tf.assign_add is deprecated. Please use tf.compat.v1.assign_add instead.\n",
            "\n",
            "WARNING:tensorflow:From /usr/local/lib/python3.6/dist-packages/keras/backend/tensorflow_backend.py:1020: The name tf.assign is deprecated. Please use tf.compat.v1.assign instead.\n",
            "\n",
            "Train on 8000 samples, validate on 2000 samples\n",
            "Epoch 1/40\n",
            "8000/8000 [==============================] - 12s 2ms/step - loss: 2.8989 - acc: 0.1136 - val_loss: 2.3316 - val_acc: 0.2354\n",
            "Epoch 2/40\n",
            "8000/8000 [==============================] - 5s 647us/step - loss: 1.9349 - acc: 0.2837 - val_loss: 2.1760 - val_acc: 0.2617\n",
            "Epoch 3/40\n",
            "8000/8000 [==============================] - 5s 632us/step - loss: 1.7813 - acc: 0.3048 - val_loss: 2.1062 - val_acc: 0.2771\n",
            "Epoch 4/40\n",
            "8000/8000 [==============================] - 5s 631us/step - loss: 1.6743 - acc: 0.3410 - val_loss: 2.0528 - val_acc: 0.2999\n",
            "Epoch 5/40\n",
            "8000/8000 [==============================] - 5s 627us/step - loss: 1.5661 - acc: 0.3768 - val_loss: 1.9795 - val_acc: 0.3165\n",
            "Epoch 6/40\n",
            "8000/8000 [==============================] - 5s 626us/step - loss: 1.4577 - acc: 0.4083 - val_loss: 1.9374 - val_acc: 0.3297\n",
            "Epoch 7/40\n",
            "8000/8000 [==============================] - 5s 625us/step - loss: 1.3653 - acc: 0.4396 - val_loss: 1.8924 - val_acc: 0.3469\n",
            "Epoch 8/40\n",
            "8000/8000 [==============================] - 5s 622us/step - loss: 1.2769 - acc: 0.4660 - val_loss: 1.8413 - val_acc: 0.3838\n",
            "Epoch 9/40\n",
            "8000/8000 [==============================] - 5s 622us/step - loss: 1.1953 - acc: 0.4888 - val_loss: 1.8196 - val_acc: 0.3892\n",
            "Epoch 10/40\n",
            "8000/8000 [==============================] - 5s 623us/step - loss: 1.1217 - acc: 0.5084 - val_loss: 1.7993 - val_acc: 0.4010\n",
            "Epoch 11/40\n",
            "8000/8000 [==============================] - 5s 620us/step - loss: 1.0561 - acc: 0.5264 - val_loss: 1.7840 - val_acc: 0.4119\n",
            "Epoch 12/40\n",
            "8000/8000 [==============================] - 5s 623us/step - loss: 0.9963 - acc: 0.5419 - val_loss: 1.7668 - val_acc: 0.4241\n",
            "Epoch 13/40\n",
            "8000/8000 [==============================] - 5s 623us/step - loss: 0.9391 - acc: 0.5555 - val_loss: 1.7689 - val_acc: 0.4289\n",
            "Epoch 14/40\n",
            "8000/8000 [==============================] - 5s 621us/step - loss: 0.8852 - acc: 0.5705 - val_loss: 1.7587 - val_acc: 0.4381\n",
            "Epoch 15/40\n",
            "8000/8000 [==============================] - 5s 622us/step - loss: 0.8357 - acc: 0.5858 - val_loss: 1.7561 - val_acc: 0.4363\n",
            "Epoch 16/40\n",
            "8000/8000 [==============================] - 5s 620us/step - loss: 0.7896 - acc: 0.5983 - val_loss: 1.7581 - val_acc: 0.4451\n",
            "Epoch 17/40\n",
            "8000/8000 [==============================] - 5s 621us/step - loss: 0.7475 - acc: 0.6114 - val_loss: 1.7671 - val_acc: 0.4432\n",
            "Epoch 18/40\n",
            "8000/8000 [==============================] - 5s 621us/step - loss: 0.7086 - acc: 0.6237 - val_loss: 1.7697 - val_acc: 0.4494\n",
            "Epoch 19/40\n",
            "8000/8000 [==============================] - 5s 622us/step - loss: 0.6722 - acc: 0.6362 - val_loss: 1.7701 - val_acc: 0.4499\n",
            "Epoch 20/40\n",
            "8000/8000 [==============================] - 5s 619us/step - loss: 0.6373 - acc: 0.6484 - val_loss: 1.7830 - val_acc: 0.4485\n",
            "Epoch 21/40\n",
            "8000/8000 [==============================] - 5s 621us/step - loss: 0.6039 - acc: 0.6612 - val_loss: 1.7898 - val_acc: 0.4494\n",
            "Epoch 22/40\n",
            "8000/8000 [==============================] - 5s 621us/step - loss: 0.5740 - acc: 0.6747 - val_loss: 1.7987 - val_acc: 0.4476\n",
            "Epoch 23/40\n",
            "8000/8000 [==============================] - 5s 620us/step - loss: 0.5462 - acc: 0.6823 - val_loss: 1.7993 - val_acc: 0.4510\n",
            "Epoch 24/40\n",
            "8000/8000 [==============================] - 5s 620us/step - loss: 0.5185 - acc: 0.6948 - val_loss: 1.8045 - val_acc: 0.4548\n",
            "Epoch 25/40\n",
            "8000/8000 [==============================] - 5s 626us/step - loss: 0.4935 - acc: 0.7026 - val_loss: 1.8125 - val_acc: 0.4510\n",
            "Epoch 26/40\n",
            "8000/8000 [==============================] - 5s 628us/step - loss: 0.4699 - acc: 0.7138 - val_loss: 1.8203 - val_acc: 0.4490\n",
            "Epoch 27/40\n",
            "8000/8000 [==============================] - 5s 620us/step - loss: 0.4492 - acc: 0.7220 - val_loss: 1.8267 - val_acc: 0.4512\n",
            "Epoch 28/40\n",
            "8000/8000 [==============================] - 5s 622us/step - loss: 0.4277 - acc: 0.7322 - val_loss: 1.8243 - val_acc: 0.4529\n",
            "Epoch 29/40\n",
            "8000/8000 [==============================] - 5s 620us/step - loss: 0.4078 - acc: 0.7417 - val_loss: 1.8419 - val_acc: 0.4533\n",
            "Epoch 30/40\n",
            "8000/8000 [==============================] - 5s 621us/step - loss: 0.3888 - acc: 0.7504 - val_loss: 1.8410 - val_acc: 0.4541\n",
            "Epoch 31/40\n",
            "8000/8000 [==============================] - 5s 621us/step - loss: 0.3720 - acc: 0.7572 - val_loss: 1.8648 - val_acc: 0.4518\n",
            "Epoch 32/40\n",
            "8000/8000 [==============================] - 5s 620us/step - loss: 0.3562 - acc: 0.7648 - val_loss: 1.8774 - val_acc: 0.4521\n",
            "Epoch 33/40\n",
            "8000/8000 [==============================] - 5s 620us/step - loss: 0.3395 - acc: 0.7723 - val_loss: 1.8715 - val_acc: 0.4489\n",
            "Epoch 34/40\n",
            "8000/8000 [==============================] - 5s 619us/step - loss: 0.3246 - acc: 0.7806 - val_loss: 1.8810 - val_acc: 0.4531\n",
            "Epoch 35/40\n",
            "8000/8000 [==============================] - 5s 618us/step - loss: 0.3102 - acc: 0.7889 - val_loss: 1.8827 - val_acc: 0.4580\n",
            "Epoch 36/40\n",
            "8000/8000 [==============================] - 5s 619us/step - loss: 0.2971 - acc: 0.7957 - val_loss: 1.8883 - val_acc: 0.4564\n",
            "Epoch 37/40\n",
            "8000/8000 [==============================] - 5s 619us/step - loss: 0.2838 - acc: 0.8008 - val_loss: 1.9013 - val_acc: 0.4558\n",
            "Epoch 38/40\n",
            "8000/8000 [==============================] - 5s 617us/step - loss: 0.2724 - acc: 0.8048 - val_loss: 1.9092 - val_acc: 0.4551\n",
            "Epoch 39/40\n",
            "8000/8000 [==============================] - 5s 618us/step - loss: 0.2615 - acc: 0.8116 - val_loss: 1.9137 - val_acc: 0.4568\n",
            "Epoch 40/40\n",
            "8000/8000 [==============================] - 5s 620us/step - loss: 0.2505 - acc: 0.8162 - val_loss: 1.9158 - val_acc: 0.4532\n"
          ],
          "name": "stdout"
        },
        {
          "output_type": "display_data",
          "data": {
            "image/png": "[encoded data removed]",
            "text/plain": [
              "<Figure size 432x288 with 1 Axes>"
            ]
          },
          "metadata": {
            "tags": []
          }
        },
        {
          "output_type": "display_data",
          "data": {
            "image/png": "[encoded data removed]",
            "text/plain": [
              "<Figure size 432x288 with 1 Axes>"
            ]
          },
          "metadata": {
            "tags": []
          }
        },
        {
          "output_type": "stream",
          "text": [
            "-\n",
            "Input: Need I go on?\n",
            "Translation: puis-je y aller en premier ?\n",
            "Continue? [Y/n]Y\n",
            "-\n",
            "Input: He is a doctor.\n",
            "Translation: il est médecin.\n",
            "Continue? [Y/n]Y\n",
            "-\n",
            "Input: Run for it!\n",
            "Translation: taillez-vous !\n",
            "Continue? [Y/n]Y\n",
            "-\n",
            "Input: I'm gullible.\n",
            "Translation: je suis indigné.\n",
            "Continue? [Y/n]n\n"
          ],
          "name": "stdout"
        }
      ]
    },
    {
      "cell_type": "code",
      "metadata": {
        "id": "BEb9nM3AiZaL",
        "colab_type": "code",
        "colab": {}
      },
      "source": [
        ""
      ],
      "execution_count": 0,
      "outputs": []
    }
  ]
}
